{
 "cells": [
  {
   "cell_type": "markdown",
   "metadata": {},
   "source": [
    "Onderdeel van Poging 3"
   ]
  },
  {
   "cell_type": "code",
   "execution_count": 3,
   "metadata": {},
   "outputs": [
    {
     "name": "stdout",
     "output_type": "stream",
     "text": [
      "426.54028436018956\n"
     ]
    }
   ],
   "source": [
    "import numpy as np\n",
    "import matplotlib.pyplot as plt"
   ]
  },
  {
   "cell_type": "code",
   "execution_count": 2,
   "metadata": {},
   "outputs": [
    {
     "name": "stdout",
     "output_type": "stream",
     "text": [
      "Warning: D<0 -> oscillating solution!\n",
      "4.7651439875645126e-05\n"
     ]
    }
   ],
   "source": [
    "A = 2000 # m^2\n",
    "Q = 150  # m^3/s\n",
    "k0 = 0.48\n",
    "labda = 84.4e-6 # m^-1\n",
    "k = k0*Q/(labda*A)\n",
    "h = 0.00000001*k       # From factor 0.00000001 reasonable result!\n",
    "\n",
    "B = 3e3\n",
    "\n",
    "D = (Q/A)**2-4*k*h\n",
    "if  D < 0:\n",
    "    print('Warning: D<0 -> oscillating solution!')\n",
    "    r = np.sqrt(-D)/(2*k)\n",
    "    print(r)\n",
    "    M = np.array([[0,1,0],[np.exp(-Q/(2*k*A)*B)*np.sin(r*B), np.exp(-Q/(2*k*A)*B)*np.cos(r*B), -np.exp(-Q*B/(k*A))],[np.exp(-Q/(2*k*A)*B)*(r*np.cos(r*B) -Q/(2*k*A)*np.sin(r*B)), np.exp(-Q/(2*k*A)*B)*(-r*np.sin(r*B) -Q/(2*k*A)*np.cos(r*B)), Q/(k*A)*np.exp(-Q*B/(k*A))]])\n",
    "    coeff = np.linalg.inv(M) @ np.array([2,1,0])\n",
    "    \n",
    "else:\n",
    "    r1 = (-Q/A + np.sqrt((Q/A)**2-4*k*h))/(2*k)\n",
    "    r2 = (-Q/A - np.sqrt((Q/A)**2-4*k*h))/(2*k)\n",
    "    \n",
    "    M = np.array([[1,1,0],[np.exp(r1*B), np.exp(r2*B), -np.exp(-Q*B/(k*A))],[r1*np.exp(r1*B), r2*np.exp(r2*B), Q/(k*A)*np.exp(-Q*B/(k*A))]])\n",
    "    coeff = np.linalg.inv(M) @ np.array([2,1,0])\n",
    "\n",
    "def f(x):\n",
    "    if D<0:\n",
    "        if x>B: return coeff[2]*np.exp(-Q/(k*A)*x)\n",
    "        if x<=B: return np.exp(-Q/(2*k*A)*x)*(coeff[0]*np.sin(r*x)+coeff[1]*np.cos(r*x)) -1\n",
    "    else:\n",
    "        if x>B: return coeff[2]*np.exp(-Q/(k*A)*x)\n",
    "        if x<=B: return coeff[0]*np.exp(r1*x) + coeff[1]*np.exp(r2*x) -1"
   ]
  },
  {
   "cell_type": "code",
   "execution_count": 88,
   "metadata": {},
   "outputs": [
    {
     "data": {
      "image/png": "[encoded data removed]",
      "text/plain": [
       "<Figure size 432x288 with 1 Axes>"
      ]
     },
     "metadata": {
      "needs_background": "light"
     },
     "output_type": "display_data"
    }
   ],
   "source": [
    "x = np.linspace(0,10e3,1000)\n",
    "s = [f(x) for x in x]\n",
    "\n",
    "plt.figure()\n",
    "plt.plot(x,s0, label='h=0')\n",
    "plt.plot(x,s)\n",
    "plt.xlabel('x (m)')\n",
    "plt.ylabel('s (-)')\n",
    "plt.vlines(B,0,1)\n",
    "plt.legend()\n",
    "plt.show()"
   ]
  },
  {
   "cell_type": "code",
   "execution_count": null,
   "metadata": {},
   "outputs": [],
   "source": [
    "                                                                                                                                                                                                                           "
   ]
  }
 ],
 "metadata": {
  "kernelspec": {
   "display_name": "Python 3",
   "language": "python",
   "name": "python3"
  },
  "language_info": {
   "codemirror_mode": {
    "name": "ipython",
    "version": 3
   },
   "file_extension": ".py",
   "mimetype": "text/x-python",
   "name": "python",
   "nbconvert_exporter": "python",
   "pygments_lexer": "ipython3",
   "version": "3.8.5"
  }
 },
 "nbformat": 4,
 "nbformat_minor": 4
}
