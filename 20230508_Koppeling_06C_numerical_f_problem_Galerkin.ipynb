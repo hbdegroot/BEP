{
 "cells": [
  {
   "cell_type": "code",
   "execution_count": 1,
   "metadata": {},
   "outputs": [],
   "source": [
    "import numpy as np\n",
    "import matplotlib.pyplot as plt\n",
    "from scipy import integrate"
   ]
  },
  {
   "cell_type": "code",
   "execution_count": 2,
   "metadata": {},
   "outputs": [],
   "source": [
    "Q = 150  # m/s^3\n",
    "A = 2000 # m^2\n",
    "k = 400\n",
    "kappa = k\n",
    "R = 10000\n",
    "L = 10000\n",
    "\n",
    "D = 1 \n",
    "\n",
    "pi = np.pi\n",
    "\n",
    "a = A/(pi*D)"
   ]
  },
  {
   "cell_type": "code",
   "execution_count": 3,
   "metadata": {},
   "outputs": [
    {
     "name": "stdout",
     "output_type": "stream",
     "text": [
      "7639.437268410976\n"
     ]
    }
   ],
   "source": [
    "print(pi*a**2*0.3/50)"
   ]
  },
  {
   "cell_type": "markdown",
   "metadata": {},
   "source": [
    "## Solving for $f(t)$\n",
    "\n",
    "In this Notebook we use the coupling condition to solve for $f(t)$. We therefore need to solve the following equation:\n",
    "\n",
    "$$ks_x(0) = \\kappa \\zeta_r(a)$$\n",
    "\n",
    "$$-\\frac{k}{L}f(t)  + k \\sum_{n=0}^{\\infty} T_n(t) \\phi_n'(0) = \\kappa \\frac{1-f(t)}{R-a} + \\kappa \\sum_{n=0}^{\\infty} T_n(t) \\phi_n'(a)$$\n",
    "\n",
    "where $T_n(t)$ is given as before:"
   ]
  },
  {
   "cell_type": "markdown",
   "metadata": {},
   "source": [
    "We define:\n",
    "$$ \\phi(x) = \\begin{bmatrix}\n",
    "\\phi_1(x) \\\\\n",
    "\\phi_2(x) \\\\\n",
    "\\vdots \\\\\n",
    "\\phi_N(x) \\\\ \n",
    "\\end{bmatrix} $$\n",
    "\n",
    "$$ T(t) = \\begin{bmatrix}\n",
    "T_1(t) \\\\\n",
    "T_2(t) \\\\\n",
    "\\vdots \\\\\n",
    "T_N(t) \\\\ \n",
    "\\end{bmatrix} $$\n",
    "\n",
    "$$ e^{-\\lambda t} = \\begin{bmatrix}\n",
    "e^{-\\lambda_1 t} & 0 & \\cdots & 0\\\\\n",
    "0 & e^{-\\lambda_2 t} & \\cdots & 0\\\\\n",
    "\\vdots & \\vdots & \\ddots & \\vdots\\\\\n",
    "0 & 0 & \\cdots & e^{-\\lambda_N t}\\\\ \n",
    "\\end{bmatrix} $$\n",
    "\n",
    "$$G = \\begin{bmatrix}\n",
    "<0,0> & <0,1> & \\cdots & <0,N>\\\\\n",
    "<1,0> & <1,1> & \\cdots & <1,N>\\\\\n",
    "\\vdots & \\vdots & \\ddots & \\vdots\\\\\n",
    "<N,0> & <N,1> & \\cdots & <N,N>\\\\ \n",
    "\\end{bmatrix}$$\n",
    "with $<n,m> = \\int_0^L \\phi_n(x) \\phi_m(x) dx$ \\\\\n",
    "\n",
    "\n",
    "$$ u_0 = \\begin{bmatrix}\n",
    "<u(x,0),1> \\\\\n",
    "<u(x,0),2> \\\\\n",
    "\\vdots \\\\\n",
    "<u(x,0),N> \\\\ \n",
    "\\end{bmatrix} $$\n",
    "with $<u(x,0),n> = \\int_0^L u(x,0) \\phi_n(x) dx$ \\\\\n",
    "\n",
    "\n",
    "$$ q(t) = \\int_0^L \\begin{bmatrix}\n",
    "L(x,t) & 0 & \\cdots & 0\\\\\n",
    "0 & L(x,t) & \\cdots & 0\\\\\n",
    "\\vdots & \\vdots & \\ddots & \\vdots\\\\\n",
    "0 & 0 & \\cdots & L(x,t)\\\\ \n",
    "\\end{bmatrix}  \\phi(x) dx$$\n",
    "with $$ L(x,t) = -f'(t)\\left(1-\\frac{x}{L} \\right) -  f(t)\\frac{Q}{AL} $$"
   ]
  },
  {
   "cell_type": "markdown",
   "metadata": {},
   "source": [
    "We can now write:\n",
    "$$T(t) = e^{-\\lambda t} \\left( G^{-1} u_0 + \\int_0^t e^{\\lambda \\tau} G^{-1} q(\\tau) d\\tau \\right)$$\n",
    "\n",
    "where\n",
    "$$ \\begin{aligned} & \\int_0^t e^{\\lambda \\tau} G^{-1} q(\\tau) d\\tau \\\\\n",
    "=& \\int_0^t e^{\\lambda \\tau} G^{-1} \\int_0^L \\begin{bmatrix}\n",
    "L(x,\\tau) \\phi_1(x)  \\\\\n",
    "L(x,\\tau) \\phi_2(x) \\\\\n",
    "\\vdots \\\\\n",
    "L(x,\\tau) \\phi_N(x) \\\\ \n",
    "\\end{bmatrix}  dx d\\tau \\\\\n",
    "=& \\int_0^L \\int_0^t e^{\\lambda \\tau} G^{-1} \\begin{bmatrix}\n",
    "L(x,\\tau) \\phi_1(x)  \\\\\n",
    "L(x,\\tau) \\phi_2(x) \\\\\n",
    "\\vdots \\\\\n",
    "L(x,\\tau) \\phi_N(x) \\\\ \n",
    "\\end{bmatrix} d\\tau dx \\\\\n",
    "=& \\int_0^L \\int_0^t e^{\\lambda \\tau} G^{-1} \\left( -f'(\\tau) (1-\\frac{x}{L}) \\phi(x) -f(\\tau)\\frac{Q}{AL} \\phi(x) \\right)d\\tau dx \\\\\n",
    "=& -\\int_0^L \\int_0^t e^{\\lambda \\tau} G^{-1} f'(\\tau) (1-\\frac{x}{L}) \\phi(x) d\\tau dx  \n",
    "-\\int_0^L \\int_0^t e^{\\lambda \\tau} G^{-1} f(\\tau)\\frac{Q}{AL} \\phi(x) d\\tau dx \\\\ \n",
    "=& -\\int_0^L G^{-1}\\int_0^t e^{\\lambda \\tau} f'(\\tau) d\\tau (1-\\frac{x}{L}) \\phi(x)dx  \n",
    "-\\int_0^L G^{-1}\\int_0^t e^{\\lambda \\tau} f(\\tau) d\\tau \\frac{Q}{AL} \\phi(x)dx \\\\ \n",
    "\\end{aligned}$$\n",
    "\n",
    "Now we use partial integration to remove $f'(\\tau)$:\n",
    "$$\\begin{aligned} & \\int_0^t e^{\\lambda \\tau} f'(\\tau) d\\tau \\\\\n",
    "= & \\left[ e^{\\lambda \\tau} f(\\tau) \\right]^t_0 - \\int_0^t e^{\\lambda \\tau} \\begin{bmatrix}\n",
    "\\lambda_1 & 0 & \\cdots & 0\\\\\n",
    "0 & \\lambda_2 & \\cdots & 0\\\\\n",
    "\\vdots & \\vdots & \\ddots & \\vdots\\\\\n",
    "0 & 0 & \\cdots & \\lambda_N\\\\ \n",
    "\\end{bmatrix} f(\\tau) d\\tau\n",
    "\\end{aligned}$$"
   ]
  },
  {
   "cell_type": "code",
   "execution_count": 4,
   "metadata": {},
   "outputs": [],
   "source": [
    "from scipy.special import jv\n",
    "from scipy.special import yv\n",
    "from scipy.optimize import root"
   ]
  },
  {
   "cell_type": "markdown",
   "metadata": {},
   "source": [
    "### Finding eigenfunctions and -values"
   ]
  },
  {
   "cell_type": "code",
   "execution_count": 5,
   "metadata": {},
   "outputs": [],
   "source": [
    "order = Q/(2*kappa*pi)\n",
    "def phi_bessel(r,par):\n",
    "    return (r)**(order)*jv(order, np.sqrt(par[0]/kappa)*(r)) + par[1]*(r)**(order)*yv(order, np.sqrt(par[0]/kappa)*(r))\n"
   ]
  },
  {
   "cell_type": "code",
   "execution_count": null,
   "metadata": {},
   "outputs": [],
   "source": []
  },
  {
   "cell_type": "code",
   "execution_count": 6,
   "metadata": {
    "scrolled": false
   },
   "outputs": [],
   "source": [
    "good_roots_bessel = np.array([[3.94030436e-05,7.61848195e-01], #n=0\n",
    "                              [1.71476791e-04,1.36154281e+00], #n=1\n",
    "                              [3.94842613e-04,2.49685017e+00], #n=2\n",
    "                              [7.08883157e-04,6.97900847e+00], #n=3\n",
    "                              [1.11333787e-03,-1.12220582e+01], #n=4\n",
    "                              [1.60807412e-03,-3.06309775e+00], #n=5\n",
    "                              [2.19302e-03,-1.67100131e+00], #n=6\n",
    "                              [2.86812e-03,-1.05017646e+00], #n=7\n",
    "                              [3.63335e-03,-0.66912985e+00], #n=8\n",
    "                              [4.4887e-03,-0.38862351e+00], #n=9\n",
    "                              [5.43415e-03,-0.15366476e+00], #n=10\n",
    "                              [6.46968e-03,0.065137e+00], #n=11\n",
    "                              [7.5953e-03,0.2897497e+00], #n=12\n",
    "                              [8.81099e-03,0.54445193e+00], #n=13\n",
    "                              [1.011676e-02,0.86784664e+00], #n=14\n",
    "                              [1.15126e-02,1.34271697e+00], #n=15\n",
    "                              [1.29985e-02,2.21252377e+00], #n=16\n",
    "                              [1.457447e-02,4.71344792e+00], #n=17\n",
    "                              [1.62405098e-02,-2.61426615e+02], #n=18\n",
    "                              [1.799661e-02,-4.44488786e+00]]) #n=20\n"
   ]
  },
  {
   "cell_type": "code",
   "execution_count": 7,
   "metadata": {},
   "outputs": [],
   "source": [
    "N_r = 19 #len(good_roots_bessel)\n",
    "N_x = 30\n",
    "\n",
    "def phi_r_n(r,n):\n",
    "    return phi_bessel(r, good_roots_bessel[n-1])\n",
    "\n",
    "def labda_r_n(n):\n",
    "    return good_roots_bessel[n-1][0]\n",
    "\n",
    "def phi_x_n(x,n):\n",
    "    return np.exp(-Q/(2*k*A)*x)*np.sin(n*pi*x/L)\n",
    "\n",
    "def labda_x_n(n):\n",
    "    return (Q/A)**2/(4*k) + k*(n*pi/L)**2\n",
    "\n",
    "def phi_x_prime(x,n):\n",
    "    return n*pi/L\n",
    "\n",
    "def phi_r_prime(r,n):\n",
    "    alpha = order\n",
    "    w = np.sqrt(good_roots_bessel[n-1][0]/kappa)\n",
    "    d = good_roots_bessel[n-1][1]\n",
    "    \n",
    "    T1 = alpha*r**(alpha-1)*jv(alpha, w*r)\n",
    "    T2 = r**(alpha)*0.5*w*jv(alpha-1, w*r)\n",
    "    T3 = -r**(alpha)*0.5*w*jv(alpha+1, w*r)\n",
    "    T4 = alpha*r**(alpha-1)*yv(alpha, w*r)\n",
    "    T5 = r**(alpha)*0.5*w*yv(alpha-1, w*r)\n",
    "    T6 = -r**(alpha)*0.5*w*yv(alpha+1, w*r)\n",
    "    return (T1+T2+T3) + d*(T4+T5+T6)"
   ]
  },
  {
   "cell_type": "code",
   "execution_count": 10,
   "metadata": {},
   "outputs": [],
   "source": [
    "def psi(r,t):\n",
    "    return (f_interp(t)-1)/(a-R)*r + (R*f_interp(t)-a)/(R-a)\n",
    "\n",
    "def xi(x,t):\n",
    "    return f_interp(t)*(1-x/L)\n",
    "\n",
    "def ss_x(x):\n",
    "    s0 = (a/R)**(2*Q/(kappa*pi))\n",
    "    v = -2*Q/(A*k)\n",
    "    return s0/(1-np.exp(v*L))*np.exp(v*x) + s0 - s0/(1-np.exp(v*L))\n",
    "\n",
    "\n",
    "def ss_r(r):\n",
    "    #return (1-(a/R)**(0.5*Q/(kappa*pi)))/(R-a)*r + 1-R*(1-(a/R)**(0.5*Q/(kappa*pi)))/(R-a)\n",
    "    return (r/R)**(2*Q/(kappa*pi))\n",
    "\n",
    "def ssn_x(x):\n",
    "    s0 = (a/R)**(Q/(kappa*pi))\n",
    "    v = -Q/(A*k)\n",
    "    return s0/(1-np.exp(v*L))*np.exp(v*x) + s0 - s0/(1-np.exp(v*L))\n",
    "\n",
    "def ssn_r(r):\n",
    "    #return (1-(a/R)**(0.5*Q/(kappa*pi)))/(R-a)*r + 1-R*(1-(a/R)**(0.5*Q/(kappa*pi)))/(R-a)\n",
    "    return (r/R)**(Q/(kappa*pi))\n",
    "\n",
    "def u(x):\n",
    "    return ss_x(x) - xi(x,0)\n",
    "\n",
    "def v(r):\n",
    "    return ss_r(r) - psi(r,0)\n"
   ]
  },
  {
   "cell_type": "code",
   "execution_count": 11,
   "metadata": {},
   "outputs": [],
   "source": [
    "def H(r,t):\n",
    "    psi_t = f_prime_interp(t)*r/(a-R) + R*f_prime_interp(t)/(R-a)\n",
    "    psi_rr = 0\n",
    "    psi_r = (f_interp(t)-1)/(a-R)\n",
    "    return np.diag((-psi_t + kappa*psi_rr + (kappa-Q/pi)/r*psi_r)*np.ones(N_r-1))\n",
    "\n",
    "def Lf(x,t):\n",
    "    xi_t = f_prime_interp(t)*(1-x/L)\n",
    "    xi_xx = 0\n",
    "    xi_x = -f_interp(t)/L\n",
    "    return np.diag((-xi_t + k*xi_xx + Q/A*xi_x )*np.ones(N_x-1))\n",
    "\n",
    "def inner_x(n,m):\n",
    "    return integrate.quad(lambda x: phi_x_n(x,m)*phi_x_n(x,n), 0, L)[0]\n",
    "\n",
    "def inner_r(n,m):\n",
    "    return integrate.quad(lambda r: phi_r_n(r,m)*phi_r_n(r,n), a, R)[0]\n",
    "\n",
    "G_x = np.array([[inner_x(n,m) for n in range(1,N_x)] for m in range(1,N_x)])\n",
    "G_r = np.array([[inner_r(n,m) for n in range(1,N_r)] for m in range(1,N_r)])\n",
    "\n",
    "labda_x = np.array([labda_x_n(n) for n in range(1,N_x)])\n",
    "labda_r = np.array([labda_r_n(n) for n in range(1,N_r)])\n",
    "lx = np.diag(labda_x)\n",
    "lr = np.diag(labda_r)\n",
    "def epx_lx(t):\n",
    "    return np.diag(np.exp(-t*labda_x))\n",
    "def epx_lr(t):\n",
    "    return np.diag(np.exp(-t*labda_r))\n",
    "\n",
    "inv_x = np.linalg.inv(G_x)\n",
    "inv_r = np.linalg.inv(G_r)\n",
    "\n",
    "\n",
    "def phix(x):\n",
    "    return np.array([phi_x_n(x,n) for n in range(1,N_x)])\n",
    "\n",
    "def phir(r):\n",
    "    return np.array([phi_r_n(r,n) for n in range(1,N_r)])\n",
    "\n",
    "\n",
    "def phix_prime(x):\n",
    "    return np.array([phi_x_prime(x,n) for n in range(1,N_x)])\n",
    "\n",
    "def phir_prime(r):\n",
    "    return np.array([phi_r_prime(r,n) for n in range(1,N_r)])\n",
    "\n",
    "# def T_x(t):\n",
    "#     I = lambda tau: integrate.quad_vec(lambda x: Lf(x,tau) @ phix, 0,L)[0]\n",
    "#     func = lambda tau: exp_lx @ inv_x @ I(tau)\n",
    "#     return integrate.quad_vec(func, 0,t)[0]"
   ]
  },
  {
   "cell_type": "code",
   "execution_count": null,
   "metadata": {},
   "outputs": [],
   "source": []
  },
  {
   "cell_type": "code",
   "execution_count": null,
   "metadata": {},
   "outputs": [],
   "source": []
  },
  {
   "cell_type": "markdown",
   "metadata": {},
   "source": [
    "## Another attempt: Galerkin-like approach\n",
    "\n",
    "We assume $$f(t) = a_0 + \\sum_{m=1}^M a_m e^{-\\mu_m t}$$"
   ]
  },
  {
   "cell_type": "code",
   "execution_count": 12,
   "metadata": {},
   "outputs": [],
   "source": [
    "N_x = 30\n",
    "N_r = 18\n",
    "N = 10\n",
    "\n",
    "f0 = (a/R)**(2*Q/(kappa*pi))\n",
    "\n",
    "\n",
    "I1 = np.array([integrate.quad(lambda x: (ss_x(x)-f0*(x/L))*phi_x_n(x, n), 0, L)[0] for n in range(1,N+1)]) ##\n",
    "P1 = np.array([integrate.quad(lambda r: (ss_r(r)-((f0-1)/(a-R)*r + (R*f0-a)/(R-a)))*phi_r_n(r, n), a, R)[0] for n in range(1,N+1)])\n",
    "\n",
    "I2 = np.array([integrate.quad(lambda x: (1-x/L)*phi_x_n(x, n), 0, L)[0] for n in range(1,N+1)])\n",
    "P2 = np.array([integrate.quad(lambda r: (R-r)/(R-a)*phi_r_n(r, n), a, R)[0] for n in range(1,N+1)])\n",
    "\n",
    "I3 = np.array([integrate.quad(lambda x: Q/(A*L)*phi_x_n(x, n), 0, L)[0] for n in range(1,N+1)])\n",
    "P3 = np.array([integrate.quad(lambda r: (kappa-Q/pi)/r*phi_r_n(r, n), a, R)[0] for n in range(1,N+1)])\n",
    "\n",
    "rho_x = np.array([integrate.quad(lambda x: phi_x_n(x, n)**2, 0, L)[0] for n in range(1,N+1)])\n",
    "rho_r = np.array([integrate.quad(lambda r: phi_r_n(r, n)**2, a, R)[0] for n in range(1,N+1)])\n",
    "\n",
    "tsteps = 10\n",
    "dt = 1e-5\n",
    "t = np.arange(0,(tsteps+0.1)*dt, dt)\n",
    "#rint = np.zeros((tsteps, N+1))\n",
    "\n",
    "def intgx(f_arr, fi, n):\n",
    "    N = len(f_arr)\n",
    "    if N == 1:\n",
    "        return dt*(f_arr[0]+fi*np.exp(labda_x[n-1]*t[1]))/2\n",
    "    temp = 0\n",
    "    for i in range(1,N):\n",
    "        temp += f_arr[i]*np.exp(labda_x[n-1]*t[i])\n",
    "    return dt*(f_arr[0]/2 + temp + fi*np.exp(labda_x[n-1]*t[N])/2)\n",
    "\n",
    "def intgr(f_arr, fi, n):\n",
    "    N = len(f_arr)\n",
    "    if N == 1:\n",
    "        return dt*(f_arr[0]+fi*np.exp(labda_r[n-1]*t[1]))/2\n",
    "    temp = 0\n",
    "    for i in range(1,N):\n",
    "        temp += f_arr[i]*np.exp(labda_r[n-1]*t[i])\n",
    "    return dt*(f_arr[0]/2 + temp + fi*np.exp(labda_r[n-1]*t[N])/2)\n",
    "\n",
    "def sr(f_arr, fi, ti):\n",
    "    T1 = (fi-1)/(a-R)\n",
    "    T3 = 0\n",
    "    for n in range(1,N+1):\n",
    "        T2 = 0\n",
    "        for j in range(1,N+1):\n",
    "            temp1 = P1[j-1]-f0*P2[j-1] + P3[j-1]/(labda_r[n-1]*(a-R))\n",
    "            temp2 = fi*P2[j-1] - P3[j-1]/(labda_r[n-1]*(a-R))\n",
    "            temp3 = intgr(f_arr, fi, n)          # DEF RINT + KEEP TRACK\n",
    "            #rint[ti,n] = temp3 # UPDATE INTEGRAL TRACKER\n",
    "            temp4 = temp3*np.exp(-labda_r[n-1]*ti)*(-labda_r[n-1]*P2[j-1] + P3[j-1]/(a-R))\n",
    "            \n",
    "            tot = temp1*np.exp(-labda_r[n-1]*ti) + temp2 + temp4\n",
    "            T2 += inv_r[n-1,j-1] * tot\n",
    "        T3 += T2*phir_prime(a)[n-1]\n",
    "    return T1 + T3\n",
    "\n",
    "def sx(f_arr, fi, ti):\n",
    "    T1 = -fi/L\n",
    "    T3 = 0\n",
    "    for n in range(1,N+1):\n",
    "        T2 = 0\n",
    "        for j in range(1,N+1):\n",
    "            temp1 = I1[j-1]+f0*I2[j-1]\n",
    "            temp2 = fi*I2[j-1]\n",
    "            temp3 = intgx(f_arr, fi, n)          # DEF RINT + KEEP TRACK\n",
    "            #xint[ti,n] = temp3 # UPDATE INTEGRAL TRACKER\n",
    "            temp4 = temp3*np.exp(-labda_x[n-1]*ti)*(labda_x[n-1]*I2[j-1] + I3[j-1])\n",
    "            \n",
    "            tot = temp1*np.exp(-labda_x[n-1]*ti) + temp2 + temp4\n",
    "            T2 += inv_x[n-1,j-1] * tot\n",
    "        T3 += T2*phix_prime(0)[n-1]\n",
    "    return T1 + T3\n",
    "\n",
    "def transport_x(f_arr, fi, ti):\n",
    "    return -k*A*sx(f_arr, fi, ti)\n",
    "def transport_r(f_arr, fi, ti):\n",
    "    return kappa*pi*a*sr(f_arr, fi, ti)  \n",
    "\n",
    "def func(f_arr, fi, ti):\n",
    "    return transport_x(f_arr, fi, ti) - transport_r(f_arr, fi, ti)"
   ]
  },
  {
   "cell_type": "code",
   "execution_count": 19,
   "metadata": {},
   "outputs": [
    {
     "name": "stderr",
     "output_type": "stream",
     "text": [
      "/Users/hugo/opt/anaconda3/lib/python3.8/site-packages/numpy/core/_asarray.py:136: VisibleDeprecationWarning: Creating an ndarray from ragged nested sequences (which is a list-or-tuple of lists-or-tuples-or ndarrays with different lengths or shapes) is deprecated. If you meant to do this, you must specify 'dtype=object' when creating the ndarray\n",
      "  return array(a, dtype, copy=False, order=order, subok=True)\n"
     ]
    },
    {
     "data": {
      "image/png": "[encoded data removed]",
      "text/plain": [
       "<Figure size 432x288 with 1 Axes>"
      ]
     },
     "metadata": {
      "needs_background": "light"
     },
     "output_type": "display_data"
    }
   ],
   "source": [
    "\n",
    "f_arr = [f0]\n",
    "for i in range(1,tsteps):\n",
    "    tof = lambda fi: func(f_arr, fi, t[i])\n",
    "    #print(i)\n",
    "    f_new = root(tof, x0=f_arr[-1]).x\n",
    "    #print(f_new)\n",
    "    f_arr.append(f_new)\n",
    "\n",
    "plt.figure()\n",
    "plt.plot(f_arr)\n",
    "plt.show()"
   ]
  },
  {
   "cell_type": "code",
   "execution_count": null,
   "metadata": {},
   "outputs": [],
   "source": []
  },
  {
   "cell_type": "code",
   "execution_count": null,
   "metadata": {},
   "outputs": [],
   "source": []
  },
  {
   "cell_type": "code",
   "execution_count": 20,
   "metadata": {},
   "outputs": [
    {
     "data": {
      "image/png": "[encoded data removed]",
      "text/plain": [
       "<Figure size 432x288 with 1 Axes>"
      ]
     },
     "metadata": {
      "needs_background": "light"
     },
     "output_type": "display_data"
    }
   ],
   "source": [
    "fi = np.linspace(0,1, 100)\n",
    "\n",
    "T = 1e-5\n",
    "\n",
    "\n",
    "\n",
    "plt.figure()\n",
    "plt.plot(fi, transport_x([f0], fi, T), label='Transport x=0')\n",
    "plt.plot(fi, transport_r([f0], fi, T), label='Transport r=a')\n",
    "plt.vlines(f0, -5000, 1500, 'k')\n",
    "plt.hlines(0, 0, 1, 'k', label='f_0')\n",
    "plt.xlabel('f_new')\n",
    "plt.legend()\n",
    "plt.show()"
   ]
  },
  {
   "cell_type": "markdown",
   "metadata": {},
   "source": [
    "Negatief transport is naar de rivier!  \n",
    "Voor f_new > f0 wordt het transport door het r-vlak positief. Dit komt alleen niet overeen met de verwachting dat het nieuwe evenwicht zich hoger instelt...  \n",
    "Voor f_new < f0 zijn beide transporten negatief wat altijd het geval zou moeten zijn\n",
    "  \n",
    "  \n",
    "Je verwacht ander gedrag afhankelijk van de verstreken tijd -> Korte tijd kan transport door r-vlak inderdaad positief worden. Op lange termijn kan dat niet. "
   ]
  },
  {
   "cell_type": "code",
   "execution_count": 23,
   "metadata": {},
   "outputs": [
    {
     "name": "stdout",
     "output_type": "stream",
     "text": [
      "0.0332048648302646\n"
     ]
    }
   ],
   "source": [
    "print(labda_x[-1])"
   ]
  },
  {
   "cell_type": "code",
   "execution_count": 14,
   "metadata": {},
   "outputs": [
    {
     "data": {
      "image/png": "[encoded data removed]",
      "text/plain": [
       "<Figure size 432x288 with 1 Axes>"
      ]
     },
     "metadata": {
      "needs_background": "light"
     },
     "output_type": "display_data"
    }
   ],
   "source": [
    "ar = phir_prime(a)\n",
    "\n",
    "plt.figure()\n",
    "plt.plot(ar, 'k.')\n",
    "plt.show()\n"
   ]
  },
  {
   "cell_type": "code",
   "execution_count": null,
   "metadata": {},
   "outputs": [],
   "source": []
  }
 ],
 "metadata": {
  "kernelspec": {
   "display_name": "Python 3",
   "language": "python",
   "name": "python3"
  },
  "language_info": {
   "codemirror_mode": {
    "name": "ipython",
    "version": 3
   },
   "file_extension": ".py",
   "mimetype": "text/x-python",
   "name": "python",
   "nbconvert_exporter": "python",
   "pygments_lexer": "ipython3",
   "version": "3.8.5"
  }
 },
 "nbformat": 4,
 "nbformat_minor": 4
}
