{
 "cells": [
  {
   "cell_type": "code",
   "execution_count": 3,
   "metadata": {},
   "outputs": [],
   "source": [
    "import numpy as np\n",
    "import matplotlib.pyplot as plt\n",
    "from scipy import integrate"
   ]
  },
  {
   "cell_type": "markdown",
   "metadata": {},
   "source": [
    "Let us consider the problem \n",
    "$$\\frac{\\partial u}{\\partial t} = k \\frac{\\partial^2 u}{\\partial x^2} + v\\frac{\\partial u}{\\partial x}$$\n",
    "\n",
    "subject to $u(0) = u(L) = 0$.\n",
    "\n",
    "We "
   ]
  },
  {
   "cell_type": "code",
   "execution_count": 4,
   "metadata": {},
   "outputs": [],
   "source": [
    "Q = 150  # m/s^3\n",
    "A = 2000 # m^2\n",
    "k = 400\n",
    "kappa = k\n",
    "R = 10000\n",
    "L = 10000\n",
    "\n",
    "pi = np.pi\n",
    "\n",
    "a = A/pi"
   ]
  },
  {
   "cell_type": "code",
   "execution_count": 5,
   "metadata": {},
   "outputs": [],
   "source": [
    "from scipy.special import jv\n",
    "from scipy.special import yv\n",
    "\n",
    "order = (Q/pi)/(2*kappa)\n",
    "\n",
    "from scipy.optimize import root"
   ]
  },
  {
   "cell_type": "code",
   "execution_count": 6,
   "metadata": {},
   "outputs": [],
   "source": [
    "def phi_bessel(r,par):\n",
    "    return (r)**(order)*jv(order, np.sqrt(par[0]/kappa)*(r)) + par[1]*(r)**(order)*yv(order, np.sqrt(par[0]/kappa)*(r))\n"
   ]
  },
  {
   "cell_type": "code",
   "execution_count": null,
   "metadata": {},
   "outputs": [],
   "source": []
  },
  {
   "cell_type": "code",
   "execution_count": 7,
   "metadata": {
    "scrolled": false
   },
   "outputs": [],
   "source": [
    "good_roots_bessel = np.array([[3.94030436e-05,7.61848195e-01], #n=0\n",
    "                              [1.71476791e-04,1.36154281e+00], #n=1\n",
    "                              [3.94842613e-04,2.49685017e+00], #n=2\n",
    "                              [7.08883157e-04,6.97900847e+00], #n=3\n",
    "                              [1.11333787e-03,-1.12220582e+01], #n=4\n",
    "                              [1.60807412e-03,-3.06309775e+00], #n=5\n",
    "                              [2.19302e-03,-1.67100131e+00], #n=6\n",
    "                              [2.86812e-03,-1.05017646e+00], #n=7\n",
    "                              [3.63335e-03,-0.66912985e+00], #n=8\n",
    "                              [4.4887e-03,-0.38862351e+00], #n=9\n",
    "                              [5.43415e-03,-0.15366476e+00], #n=10\n",
    "                              [6.46968e-03,0.065137e+00], #n=11\n",
    "                              [7.5953e-03,0.2897497e+00], #n=12\n",
    "                              [8.81099e-03,0.54445193e+00], #n=13\n",
    "                              [1.011676e-02,0.86784664e+00], #n=14\n",
    "                              [1.15126e-02,1.34271697e+00], #n=15\n",
    "                              [1.29985e-02,2.21252377e+00], #n=16\n",
    "                              [1.457447e-02,4.71344792e+00], #n=17\n",
    "                              [1.62405098e-02,-2.61426615e+02], #n=18\n",
    "                              [1.799661e-02,-4.44488786e+00]]) #n=20\n"
   ]
  },
  {
   "cell_type": "code",
   "execution_count": null,
   "metadata": {},
   "outputs": [],
   "source": []
  },
  {
   "cell_type": "code",
   "execution_count": 13,
   "metadata": {},
   "outputs": [],
   "source": [
    "N_r = 15 #len(good_roots_bessel)\n",
    "N_x = 20\n",
    "\n",
    "def phi_r_n(r,n):\n",
    "    return phi_bessel(r, good_roots_bessel[n-1])\n",
    "\n",
    "def labda_r_n(n):\n",
    "    return good_roots_bessel[n-1][0]\n",
    "\n",
    "def phi_x_n(x,n):\n",
    "    return np.exp(-Q/(2*k*A)*x)*np.sin(n*pi*x/L)\n",
    "\n",
    "def labda_x_n(n):\n",
    "    return (Q/A)**2/(4*k) + k*(n*pi/L)**2"
   ]
  },
  {
   "cell_type": "code",
   "execution_count": 26,
   "metadata": {},
   "outputs": [],
   "source": [
    "dt = 1e-3\n",
    "t = np.arange(0,1e-2,dt)"
   ]
  },
  {
   "cell_type": "code",
   "execution_count": null,
   "metadata": {},
   "outputs": [],
   "source": []
  },
  {
   "cell_type": "markdown",
   "metadata": {},
   "source": [
    "## Final solution\n",
    "Now that we have the eigenfunctions and $f(t)$ is approximated, we will build the final solution.  \n",
    "  \n",
    "First we linearly interpolate the discrete solution for $f(t)$:"
   ]
  },
  {
   "cell_type": "code",
   "execution_count": 27,
   "metadata": {},
   "outputs": [],
   "source": [
    "# Guess\n",
    "time_constant = min(labda_r_n(1), labda_x_n(1))\n",
    "time_constant = 1e0\n",
    "def f_interp(T):\n",
    "    eq1 = (a/R)**(0.5*Q/(kappa*pi))\n",
    "    eq2 = (a/R)**(Q/(kappa*pi))\n",
    "    return 0# eq1 +(eq2-eq1)*np.exp(-T/t[-1])\n",
    "\n",
    "def f_prime_interp(T):\n",
    "    eq1 = (a/R)**(0.5*Q/(kappa*pi))\n",
    "    eq2 = (a/R)**(Q/(kappa*pi))\n",
    "    return 0#-t[-1]*(eq2-eq1)*np.exp(-T/t[-1])"
   ]
  },
  {
   "cell_type": "markdown",
   "metadata": {},
   "source": [
    "Now we calulate $s(x,t)$ and $\\zeta(x,t)$:"
   ]
  },
  {
   "cell_type": "code",
   "execution_count": 46,
   "metadata": {},
   "outputs": [],
   "source": [
    "def psi(r,t):\n",
    "    return (f_interp(t)-1)/(a-R)*r + (R*f_interp(t)-a)/(R-a)\n",
    "\n",
    "def xi(x,t):\n",
    "    return f_interp(t)*(1-x/L)\n",
    "\n",
    "\n",
    "def ss_x(x):\n",
    "    return (a/R)**(0.5*Q/(kappa*pi))*(1-x/L) * np.exp(-x/L)\n",
    "    return (a/R)**(0.5*Q/(kappa*pi))*np.exp(-0.5*Q*x/(k*A))\n",
    "\n",
    "def ss_r(r):\n",
    "    #return (1-(a/R)**(0.5*Q/(kappa*pi)))/(R-a)*r + 1-R*(1-(a/R)**(0.5*Q/(kappa*pi)))/(R-a)\n",
    "    return (r/R)**(0.5*Q/(kappa*pi))\n",
    "\n",
    "def u(x):\n",
    "    return np.exp(-Q/(2*k*A)*x)*np.sin(pi*x/L)\n",
    "    return ss_x(x) - xi(x,0)\n",
    "\n",
    "def v(r):\n",
    "    return ss_r(r) - psi(r,0)"
   ]
  },
  {
   "cell_type": "code",
   "execution_count": 58,
   "metadata": {},
   "outputs": [],
   "source": [
    "def H(r,t):\n",
    "    psi_t = f_prime_interp(t)*r/(a-R) + R*f_prime_interp(t)/(R-a)\n",
    "    psi_rr = 0\n",
    "    psi_r = (f_interp(t)-1)/(a-R)\n",
    "    return -psi_t + kappa*psi_rr + (kappa-Q/pi)/r*psi_r\n",
    "\n",
    "def Lf(x,t):\n",
    "    xi_t = f_prime_interp(t)*(1-x/L)\n",
    "    xi_xx = 0\n",
    "    xi_x = -f_interp(t)/L\n",
    "    return 0 -xi_t + k*xi_xx + Q/A*xi_x\n",
    "\n",
    "\n",
    "def h(tau):\n",
    "    return np.array([integrate.quad(lambda r: H(r,tau)*phi_r_n(r,n), a, R)[0] for n in range(1,N_r)])\n",
    "\n",
    "def l(tau):\n",
    "    return np.array([integrate.quad(lambda x: Lf(x,tau)*phi_x_n(x,n), 0, L)[0] for n in range(1,N_x)])\n",
    "\n",
    "def inner_x(n,m):\n",
    "    return integrate.quad(lambda x: phi_x_n(x,m)*phi_x_n(x,n), 0, L)[0]\n",
    "\n",
    "def inner_r(n,m):\n",
    "    return integrate.quad(lambda r: phi_r_n(r,m)*phi_r_n(r,n), a, R)[0]\n",
    "\n",
    "G_x = np.array([[inner_x(n,m) for n in range(1,N_x)] for m in range(1,N_x)])\n",
    "G_r = np.array([[inner_r(n,m) for n in range(1,N_r)] for m in range(1,N_r)])\n",
    "\n",
    "labda_x = np.array([labda_x_n(n) for n in range(1,N_x)])\n",
    "labda_r = np.array([labda_r_n(n) for n in range(1,N_r)])\n",
    "\n",
    "inv_x = np.linalg.inv(G_x)\n",
    "inv_r = np.linalg.inv(G_r)\n",
    "\n",
    "\n",
    "T0_r = inv_r @ np.array([integrate.quad(lambda r: v(r)*phi_r_n(r,n), a, R)[0] for n in range(1,N_r)])\n",
    "T0_x = inv_x @ np.array([integrate.quad(lambda x: u(x)*phi_x_n(x,n), 0, L)[0] for n in range(1,N_x)])\n",
    "# def T_x(t):\n",
    "#     return np.exp(-labda_x*t)*T0_x + np.exp(-labda_x*t) * np.array([integrate.quad(lambda tau: (inv_x @ l(tau)*np.exp(labda_x*tau))[i], 0, t)[0] for i in range(0,N_x-1)])\n",
    "\n",
    "# def T_r(t):\n",
    "#     return np.exp(-labda_r*t)*T0_r + np.exp(-labda_r*t) * np.array([integrate.quad(lambda tau: (inv_r @ h(tau)*np.exp(labda_r*tau))[i], 0, t)[0] for i in range(0,N_r-1)])\n",
    "\n",
    "\n",
    "def T_x(t):\n",
    "    return np.exp(-labda_x*t)*T0_x + np.exp(-labda_x*t) * np.array(integrate.quad_vec(lambda tau: np.exp(labda_x*tau) * (inv_x @ l(tau)), 0, t)[0])\n",
    "\n",
    "def T_r(t):\n",
    "    return np.exp(-labda_r*t)*T0_r + np.exp(-labda_r*t) * integrate.quad_vec(lambda tau: (inv_r @ h(tau) )*np.exp(labda_r*tau), 0, t)[0]\n",
    "\n",
    "\n",
    "def sol_r(r,t):\n",
    "    res = T_r(t) @ np.array([phi_r_n(r,n) for n in range(1,N_r)])\n",
    "    return res + psi(r,t)\n",
    "\n",
    "def sol_x(x,t):\n",
    "    res = T_x(t) @ np.array([phi_x_n(x,n) for n in range(1,N_x)])\n",
    "    return res #+ xi(x,t)"
   ]
  },
  {
   "cell_type": "code",
   "execution_count": 59,
   "metadata": {},
   "outputs": [],
   "source": [
    "x = np.linspace(0,L,100)\n",
    "# r = np.linspace(a,R,100)\n",
    "\n",
    "# ax = np.append(-x[::-1], r)\n",
    "# res = np.append(sol_x(x,t[0])[::-1], sol_r(r,t[0]))\n",
    "\n",
    "# plt.figure(figsize=(12,12))\n",
    "# plt.plot(ax, res)\n",
    "# for i in range(0,len(t), 10):\n",
    "#     print(i)\n",
    "#     res = np.append(sol_x(x,t[i])[::-1], sol_r(r,t[i]))\n",
    "#     plt.plot(ax, res, label=str(t[i]))\n",
    "#     plt.plot(0, f_interp(t[i]), 'r.')\n",
    "# plt.legend()\n",
    "# plt.show()"
   ]
  },
  {
   "cell_type": "code",
   "execution_count": 60,
   "metadata": {},
   "outputs": [
    {
     "name": "stdout",
     "output_type": "stream",
     "text": [
      "0\n",
      "1\n",
      "2\n",
      "3\n",
      "4\n",
      "5\n",
      "6\n",
      "7\n",
      "8\n",
      "9\n"
     ]
    },
    {
     "data": {
      "image/png": "[encoded data removed]",
      "text/plain": [
       "<Figure size 864x864 with 1 Axes>"
      ]
     },
     "metadata": {
      "needs_background": "light"
     },
     "output_type": "display_data"
    }
   ],
   "source": [
    "plt.figure(figsize=(12,12))\n",
    "plt.plot(x,u(x), '--')\n",
    "for i in range(0,len(t), 1):\n",
    "    print(i)\n",
    "    plt.plot(x, sol_x(x,t[i]), label=str(t[i]))\n",
    "    plt.plot(0, f_interp(t[i]), 'r.')\n",
    "    plt.ylim(0,1)\n",
    "plt.legend()\n",
    "plt.show()"
   ]
  },
  {
   "cell_type": "code",
   "execution_count": 61,
   "metadata": {},
   "outputs": [
    {
     "name": "stdout",
     "output_type": "stream",
     "text": [
      "[1 2]\n",
      "[[7 3]\n",
      " [1 4]]\n",
      "[13  9]\n"
     ]
    }
   ],
   "source": [
    "U = np.array([1,2])\n",
    "P = np.array([[7,3],[1,4]])\n",
    "\n",
    "print(U)\n",
    "print(P)\n",
    "print(P @ U)"
   ]
  },
  {
   "cell_type": "code",
   "execution_count": 62,
   "metadata": {},
   "outputs": [
    {
     "data": {
      "image/png": "[encoded data removed]",
      "text/plain": [
       "<Figure size 432x288 with 2 Axes>"
      ]
     },
     "metadata": {
      "needs_background": "light"
     },
     "output_type": "display_data"
    },
    {
     "data": {
      "image/png": "[encoded data removed]",
      "text/plain": [
       "<Figure size 432x288 with 2 Axes>"
      ]
     },
     "metadata": {
      "needs_background": "light"
     },
     "output_type": "display_data"
    },
    {
     "data": {
      "image/png": "[encoded data removed]",
      "text/plain": [
       "<Figure size 432x288 with 2 Axes>"
      ]
     },
     "metadata": {
      "needs_background": "light"
     },
     "output_type": "display_data"
    }
   ],
   "source": [
    "plt.figure()\n",
    "plt.imshow(G_x)\n",
    "plt.colorbar()\n",
    "plt.show()\n",
    "\n",
    "plt.figure()\n",
    "plt.imshow(inv_x)\n",
    "plt.colorbar()\n",
    "plt.show()\n",
    "\n",
    "plt.figure()\n",
    "plt.imshow(G_x @ inv_x)\n",
    "plt.colorbar()\n",
    "plt.show()"
   ]
  },
  {
   "cell_type": "code",
   "execution_count": null,
   "metadata": {},
   "outputs": [],
   "source": []
  },
  {
   "cell_type": "code",
   "execution_count": 63,
   "metadata": {},
   "outputs": [
    {
     "data": {
      "image/png": "[encoded data removed]",
      "text/plain": [
       "<Figure size 432x288 with 1 Axes>"
      ]
     },
     "metadata": {
      "needs_background": "light"
     },
     "output_type": "display_data"
    },
    {
     "name": "stdout",
     "output_type": "stream",
     "text": [
      "[ 1.00000000e+00 -9.36750677e-17  5.55111512e-17 -1.38777878e-17\n",
      "  1.04083409e-17  4.33680869e-18  2.60208521e-18 -1.30104261e-18\n",
      " -1.30104261e-18  3.25260652e-19 -2.16840434e-19  1.08420217e-19\n",
      " -1.08420217e-19  1.08420217e-19  0.00000000e+00  3.25260652e-19\n",
      " -1.08420217e-19 -1.08420217e-19 -5.42101086e-20]\n",
      "[ 9.99957007e-01 -9.36599470e-17  5.54912362e-17 -1.38689758e-17\n",
      "  1.03980367e-17  4.33063427e-18  2.59704737e-18 -1.29775496e-18\n",
      " -1.29688428e-18  3.23977967e-19 -2.15806323e-19  1.07805230e-19\n",
      " -1.07698883e-19  1.07584146e-19  0.00000000e+00  3.21988837e-19\n",
      " -1.07189876e-19 -1.07041869e-19 -5.34428133e-20]\n"
     ]
    },
    {
     "data": {
      "image/png": "[encoded data removed]",
      "text/plain": [
       "<Figure size 432x288 with 1 Axes>"
      ]
     },
     "metadata": {
      "needs_background": "light"
     },
     "output_type": "display_data"
    }
   ],
   "source": [
    "plt.figure()\n",
    "plt.plot(T0_x)\n",
    "plt.show()\n",
    "print(T_x(0))\n",
    "print(T_x(1))\n",
    "\n",
    "Y = inv_x @ np.array([integrate.quad(lambda x: u(x)*phi_x_n(x,n), 0, L)[0] for n in range(1,N_x)])\n",
    "\n",
    "plt.figure()\n",
    "plt.plot(x, Y @ np.array([phi_x_n(x,i) for i in range(1,N_x)]))\n",
    "plt.plot(x, u(x), '--')\n",
    "plt.show()"
   ]
  },
  {
   "cell_type": "code",
   "execution_count": null,
   "metadata": {},
   "outputs": [],
   "source": []
  },
  {
   "cell_type": "code",
   "execution_count": null,
   "metadata": {},
   "outputs": [],
   "source": []
  }
 ],
 "metadata": {
  "kernelspec": {
   "display_name": "Python 3",
   "language": "python",
   "name": "python3"
  },
  "language_info": {
   "codemirror_mode": {
    "name": "ipython",
    "version": 3
   },
   "file_extension": ".py",
   "mimetype": "text/x-python",
   "name": "python",
   "nbconvert_exporter": "python",
   "pygments_lexer": "ipython3",
   "version": "3.8.5"
  }
 },
 "nbformat": 4,
 "nbformat_minor": 4
}
