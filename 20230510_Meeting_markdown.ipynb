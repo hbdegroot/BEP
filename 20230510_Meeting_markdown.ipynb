{
 "cells": [
  {
   "cell_type": "code",
   "execution_count": 6,
   "metadata": {},
   "outputs": [],
   "source": [
    "import numpy as np\n",
    "import matplotlib.pyplot as plt\n",
    "from scipy import integrate"
   ]
  },
  {
   "cell_type": "markdown",
   "metadata": {},
   "source": [
    "$$(i) \\frac{\\partial s}{\\partial t} = k\\frac{\\partial^2 s}{\\partial x^2} +\\frac{Q}{A}\\frac{\\partial s}{\\partial x}$$\n",
    "\n",
    "$$(ii) \\frac{\\partial \\zeta}{\\partial t} = \\kappa \\frac{\\partial^2 \\zeta}{\\partial r^2} + \\frac{1}{r} \\left (\\kappa-\\frac{Q}{\\pi D} \\right )\\frac{\\partial \\zeta}{\\partial r}$$"
   ]
  },
  {
   "cell_type": "code",
   "execution_count": 7,
   "metadata": {},
   "outputs": [],
   "source": [
    "Q = 150  # m/s^3\n",
    "A = 2000 # m^2\n",
    "k = 400\n",
    "kappa = k\n",
    "R = 10000\n",
    "L = 10000\n",
    "\n",
    "pi = np.pi\n",
    "\n",
    "D = 1\n",
    "\n",
    "a = A/(pi*D)"
   ]
  },
  {
   "cell_type": "markdown",
   "metadata": {},
   "source": [
    " ## Steady-state  \n",
    "   \n",
    "for i: $$ 0 = k\\frac{\\partial^2 \\tilde{s}}{\\partial x^2} +\\frac{Q}{A} \\frac{\\partial \\tilde{s}}{\\partial x} $$\n",
    "such that $$\\tilde{s}(x) = \\gamma_1 e^{-\\frac{Q}{kA}x} + \\gamma_2$$\n",
    "\n",
    "for ii: $$ 0 = \\kappa \\frac{\\partial^2 \\tilde{\\zeta}}{\\partial r^2} + \\frac{1}{r}\\left(\\kappa - \\frac{Q}{\\pi} \\right )\\frac{\\partial \\tilde{\\zeta}}{\\partial r}$$\n",
    "such that $$\\tilde{\\zeta}(r) = \\gamma_3 \\left(  \\frac{r}{R}\\right)^{Q/\\kappa \\pi} + \\gamma_4$$\n",
    " \n",
    "  \n",
    "Finally by using the boundary conditions we find:\n",
    "$$\\tilde{s}(x) = \\left(\\frac{a}{R}\\right)^{Q/\\kappa \\pi} e^{-\\frac{Q}{kA}x}$$\n",
    "$$\\tilde{\\zeta}(r) = \\left(  \\frac{r}{R}\\right)^{Q/\\kappa \\pi}$$"
   ]
  },
  {
   "cell_type": "code",
   "execution_count": 8,
   "metadata": {},
   "outputs": [],
   "source": [
    "def s_tilde(x):\n",
    "    return (a/R)**(Q/(kappa*pi))*np.exp(-Q*x/(k*A))\n",
    "\n",
    "def zeta_tilde(r):\n",
    "    return (r/R)**(Q/(kappa*pi))"
   ]
  },
  {
   "cell_type": "code",
   "execution_count": 9,
   "metadata": {},
   "outputs": [
    {
     "data": {
      "image/png": "[encoded data removed]",
      "text/plain": [
       "<Figure size 432x288 with 1 Axes>"
      ]
     },
     "metadata": {
      "needs_background": "light"
     },
     "output_type": "display_data"
    }
   ],
   "source": [
    "x = np.linspace(0,L,int(1e3))\n",
    "r = np.linspace(a,R,int(1e2))\n",
    "\n",
    "ax = np.append(-x[::-1],r)\n",
    "\n",
    "s0 = [s_tilde(x) for x in x][::-1] + [zeta_tilde(r) for r in r]\n",
    "\n",
    "\n",
    "plt.figure()\n",
    "plt.plot(ax,s0, label='steady state')\n",
    "plt.xlabel('x & r (m)')\n",
    "plt.ylabel('s (-)')\n",
    "#plt.vlines(B,0,1, color='black')\n",
    "plt.legend()\n",
    "plt.show()"
   ]
  },
  {
   "cell_type": "code",
   "execution_count": null,
   "metadata": {},
   "outputs": [],
   "source": []
  },
  {
   "cell_type": "markdown",
   "metadata": {},
   "source": [
    "## Non-steady state ($\\zeta$)\n",
    "Let's first consider the non-steady state of the radial part with two non-homogenous boundary conditions.\n",
    "Then for ii: $$\\frac{\\partial \\zeta}{\\partial t} = \\kappa \\frac{\\partial^2 \\zeta}{\\partial r^2} + \\frac{1}{r} \\left (\\kappa-\\frac{Q}{\\pi D} \\right )\\frac{\\partial \\zeta}{\\partial r}$$\n",
    "The boundary conditions are \n",
    "$$\\begin{aligned} \\zeta(R) &= 1  \\\\\n",
    "\\zeta(a) &= f(t)\\end{aligned}$$\n",
    "\n",
    "\n",
    "We now consider $$\\zeta(r,t) = v(r,t) + \\psi(r,t)$$  with $\\psi$ chosen such that the boundary conditions become homogenous $$\\psi(r,t) = \\frac{f(t)-1}{a-R}r + \\frac{Rf(t) -a}{R-a}$$\n",
    "\n",
    "The the equation for $v$ is: $$ v_t = \\kappa v_{rr} + \\frac{1}{r} \\left(\\kappa -\\frac{Q}{\\pi D}\\right) v_r + \\left[ -\\psi_t + \\kappa \\psi_{rr} + \\frac{1}{r} \\left(\\kappa -\\frac{Q}{\\pi D}\\right) \\psi_r \\right]$$\n",
    "\n",
    "which we rewrite as $$ v_t = \\kappa v_{rr} + \\frac{c}{r} v_r + H(r,t)$$ where the boundary conditions for $v$ are homogenous.\n",
    "\n",
    "### Eigenvalue problem\n",
    "The Eigenvalue problem related to this PDE is:\n",
    "$$ \\kappa \\phi_{rr} + \\frac{c}{r} \\phi_r = -\\lambda \\phi$$\n",
    "Now a true mathematician would work out the series solution using the method of Frobenius. I however use wolfram_alpha to give me:\n",
    "$$\\phi(r) = d_1 r^{\\frac{\\kappa -c}{2\\kappa}} J_{\\frac{c-\\kappa}{2\\kappa}}\\left(\\sqrt{\\frac{\\lambda}{\\kappa}}r \\right) +  d_2 r^{\\frac{\\kappa -c}{2\\kappa}} Y_{\\frac{c-\\kappa}{2\\kappa}}\\left(\\sqrt{\\frac{\\lambda}{\\kappa}}r\\right)$$  \n",
    "  \n",
    "\n",
    "\n",
    "### Eigenfunction expansion\n",
    "Now that we have the eigenfunctions we can use eigenfunction expansion:\n",
    "$$v(r,t) = \\sum_{n=1}^{\\infty}T_n(t) \\phi_n(r)$$\n",
    "  \n",
    "By filling this in into the equation, justifying differentiation by homogeneity of the boundary conditions, and integrating from $r=a$ to $r=R$, using (ASSUMED) orthogonality:\n",
    "\n",
    "$$\\frac{dT_n}{dt} = -\\lambda_n T_n(t) + \\int_{r=a}^R H(r,t) \\phi_n(r) dr \\cdot \\left( \\int_{r=a}^R \\phi_n(r)^2 dr \\right)^{-1}$$ resulting in $$T_n(t) = e^{-\\lambda_n t} T_n(0) + e^{-\\lambda_n t} \\int_{0}^{t} h_n(\\tau)e^{\\lambda_n \\tau} d\\tau$$\n",
    "where $T_n(0) = \\int v(r,0) \\phi_n(r) dr$"
   ]
  },
  {
   "cell_type": "markdown",
   "metadata": {},
   "source": [
    "## Non-steady state ($s$)\n",
    "Let's now consider the non-steady state of the river part in $x$ with two non-homogenous boundary conditions.\n",
    "Then for i: $$\\frac{\\partial s}{\\partial t} = k\\frac{\\partial^2 s}{\\partial x^2} +\\frac{Q}{A}\\frac{\\partial s}{\\partial x}$$\n",
    "\n",
    "The boundary conditions are \n",
    "$$\\begin{aligned} s(L) &= 0  \\\\\n",
    "s(0) &= f(t)\\end{aligned}$$\n",
    "\n",
    "\n",
    "\n",
    "We now consider $$s(x,t) = u(x,t) + \\xi(x,t)$$  with $\\xi$ chosen such that the boundary conditions become homogenous $$\\xi(x,t) = f(t) \\left( 1-\\frac{x}{L} \\right)$$\n",
    "\n",
    "The the equation for $u$ is: $$ u_t = k u_{xx} + \\frac{Q}{A} u_x + \\left[ -\\xi_t + k \\xi_{xx} + \\frac{Q}{A} \\xi_x \\right]$$\n",
    "\n",
    "which we rewrite as $$ u_t = k u_{xx} + \\frac{Q}{A} u_x + L(x,t)$$ where the boundary conditions for $v$ are homogenous.\n",
    "\n",
    "### Eigenvalue problem\n",
    "The Eigenvalue problem related to this PDE is:\n",
    "$$ k \\phi_{xx} + \\frac{Q}{A} \\phi_x = -\\lambda \\phi$$\n",
    "This is exercise 5.3.4 in Haberman:\n",
    "\n",
    "$$\\phi_n(x) = e^{-\\frac{Q}{2kA}x} \\sin \\left(\\frac{n \\pi x}{L} \\right)$$  \n",
    "\n",
    "with $$\\lambda_n = \\frac{(Q/A)^2}{4k} + k\\left(\\frac{n\\pi}{L}\\right)^2$$\n",
    "### Eigenfunction expansion\n",
    "Now that we have the eigenfunctions we can use eigenfunction expansion:\n",
    "$$u(x,t) = \\sum_{n=1}^{\\infty}T_n(t) \\phi_n(x)$$\n",
    "  \n",
    "-> GALERKIN"
   ]
  },
  {
   "cell_type": "markdown",
   "metadata": {},
   "source": [
    "# Coupling on the boundary\n",
    "\n",
    "In determining the solutions above, we assumed the salinity at the boundary is given by $f(t)$. However, this function is not known. Using the other (transport) coupling condition we solve for $f(t)$.  \n",
    "  \n",
    "Recall the coupling condition:\n",
    "$$ks_x(0) = \\kappa \\zeta_r(a) $$\n",
    "when the surfaces are chosen equally.\n",
    "\n",
    "$$\\begin{aligned} \n",
    "s_x(0) &= \\frac{\\partial}{\\partial x} \\left[ \\sum_{n=0}^{\\infty}T_n(t) \\phi_n(x) + \\xi(x,t) \\right]\\\\\n",
    "&= -\\frac{f(t)}{L} + \\sum_{n=0}^{\\infty} T_n(t) \\phi_n'(0)\\\\\n",
    "\\end{aligned}$$\n",
    "\n",
    "and \n",
    "\n",
    "$$\\begin{aligned} \n",
    "\\zeta_r(a) &= \\frac{\\partial}{\\partial r} \\left[ \\sum_{n=0}^{\\infty}T_n(t) \\phi_n(r) + \\psi(r,t) \\right]\\\\\n",
    "&= \\frac{f(t)-1}{a-R} + \\sum_{n=0}^{\\infty} T_n(t) \\phi_n'(a)\\\\\n",
    "\\end{aligned}$$\n",
    "\n",
    "By seperating $f(t)$ from the equality we obtain:\n",
    "$$f(t) = \\left[\\frac{\\kappa}{R-a} -\\frac{k}{L} \\right]^{-1} \\left(\\kappa \\sum_{n=0}^{\\infty} T_n(t) \\phi_n'(a) + \\frac{\\kappa}{R-a} - k \\sum_{n=0}^{\\infty} T_n(t) \\phi_n'(0) \\right)$$\n",
    "\n",
    "## WARNING^ T_n depends on f(t)..... so not actually easily separable. This will not be possible I suppose."
   ]
  },
  {
   "cell_type": "code",
   "execution_count": 10,
   "metadata": {},
   "outputs": [
    {
     "name": "stdout",
     "output_type": "stream",
     "text": [
      "0.05968310365946075\n"
     ]
    }
   ],
   "source": [
    "from scipy.special import jv\n",
    "from scipy.special import yv\n",
    "\n",
    "# def f(t):\n",
    "#     return 1+0.5*np.sin(t)\n",
    "\n",
    "# def f_prime(t):\n",
    "#     return 0.5*np.cos(t)\n",
    "\n",
    "order = (Q/(pi*D))/(2*kappa)\n",
    "print(order)\n",
    "\n",
    "# def H(r,t):\n",
    "#     psi_t = f_prime(t)*r/(a-R) + R*f_prime(t)/(R-a)\n",
    "#     psi_rr = 0\n",
    "#     psi_r = (f(t)-1)/(a-R)\n",
    "#     return -psi_t + kappa*psi_rr + (kappa-Q/pi)/r*psi_r\n",
    "\n",
    "# N = 6\n",
    "# z = np.array([2.5,5,8,12,15,18])\n",
    "\n",
    "from scipy.optimize import root"
   ]
  },
  {
   "cell_type": "code",
   "execution_count": null,
   "metadata": {},
   "outputs": [],
   "source": []
  },
  {
   "cell_type": "code",
   "execution_count": null,
   "metadata": {},
   "outputs": [],
   "source": []
  },
  {
   "cell_type": "code",
   "execution_count": null,
   "metadata": {},
   "outputs": [],
   "source": []
  },
  {
   "cell_type": "code",
   "execution_count": null,
   "metadata": {},
   "outputs": [],
   "source": []
  },
  {
   "cell_type": "markdown",
   "metadata": {},
   "source": [
    "### Finding eigenfunctions and -values"
   ]
  },
  {
   "cell_type": "code",
   "execution_count": 11,
   "metadata": {},
   "outputs": [],
   "source": [
    "order = Q/(2*kappa*pi*D)\n",
    "def phi_bessel(r,par):\n",
    "    return (r)**(order)*jv(order, np.sqrt(par[0]/kappa)*(r)) + par[1]*(r)**(order)*yv(order, np.sqrt(par[0]/kappa)*(r))\n",
    "\n",
    "def phi_frob(r, par):\n",
    "    labda = par[0]\n",
    "    d = par[1]\n",
    "    N = 50\n",
    "    a1 = np.zeros(N)\n",
    "    a2 = np.zeros(N)\n",
    "    a1[0] = 1\n",
    "    a2[0] = 1\n",
    "\n",
    "    c = kappa -Q/pi\n",
    "    r1 = 0\n",
    "    r2 = (c-kappa)/kappa\n",
    "\n",
    "    for i in range(2,N,2):\n",
    "        a1[i] = -labda*a1[i-2]/(kappa*(i+r1)*(i+r1-1) + c*(i+r1))\n",
    "        a2[i] = -labda*a2[i-2]/(kappa*(i+r2)*(i+r2-1) + c*(i+r2))\n",
    "    \n",
    "    y1, y2 = 0,0\n",
    "    for i in range(N):\n",
    "        y1 += a1[i]*r**(i+r1)\n",
    "        y2 += a2[i]*r**(i+r2)\n",
    "    \n",
    "    return y1 + d*y2"
   ]
  },
  {
   "cell_type": "code",
   "execution_count": null,
   "metadata": {},
   "outputs": [],
   "source": []
  },
  {
   "cell_type": "code",
   "execution_count": 12,
   "metadata": {
    "scrolled": true
   },
   "outputs": [
    {
     "name": "stdout",
     "output_type": "stream",
     "text": [
      "Frob:\n"
     ]
    },
    {
     "ename": "KeyboardInterrupt",
     "evalue": "",
     "output_type": "error",
     "traceback": [
      "\u001b[0;31m---------------------------------------------------------------------------\u001b[0m",
      "\u001b[0;31mKeyboardInterrupt\u001b[0m                         Traceback (most recent call last)",
      "\u001b[0;32m<ipython-input-12-32f6eaf9b2bf>\u001b[0m in \u001b[0;36m<module>\u001b[0;34m\u001b[0m\n\u001b[1;32m     35\u001b[0m \u001b[0;32mfor\u001b[0m \u001b[0mi\u001b[0m \u001b[0;32min\u001b[0m \u001b[0mnp\u001b[0m\u001b[0;34m.\u001b[0m\u001b[0mlinspace\u001b[0m\u001b[0;34m(\u001b[0m\u001b[0;36m3e-5\u001b[0m\u001b[0;34m,\u001b[0m\u001b[0;36m1\u001b[0m\u001b[0;34m,\u001b[0m\u001b[0;36m20\u001b[0m\u001b[0;34m)\u001b[0m\u001b[0;34m:\u001b[0m\u001b[0;34m\u001b[0m\u001b[0;34m\u001b[0m\u001b[0m\n\u001b[1;32m     36\u001b[0m     \u001b[0;32mfor\u001b[0m \u001b[0mj\u001b[0m \u001b[0;32min\u001b[0m \u001b[0mnp\u001b[0m\u001b[0;34m.\u001b[0m\u001b[0mlinspace\u001b[0m\u001b[0;34m(\u001b[0m\u001b[0;34m-\u001b[0m\u001b[0;36m10\u001b[0m\u001b[0;34m,\u001b[0m\u001b[0;36m10\u001b[0m\u001b[0;34m,\u001b[0m\u001b[0;36m20\u001b[0m\u001b[0;34m)\u001b[0m\u001b[0;34m:\u001b[0m\u001b[0;34m\u001b[0m\u001b[0;34m\u001b[0m\u001b[0m\n\u001b[0;32m---> 37\u001b[0;31m         \u001b[0mrt\u001b[0m \u001b[0;34m=\u001b[0m \u001b[0mroot\u001b[0m\u001b[0;34m(\u001b[0m\u001b[0mfunc_frob\u001b[0m\u001b[0;34m,\u001b[0m \u001b[0mx0\u001b[0m \u001b[0;34m=\u001b[0m\u001b[0;34m(\u001b[0m\u001b[0mi\u001b[0m\u001b[0;34m,\u001b[0m\u001b[0mj\u001b[0m\u001b[0;34m)\u001b[0m\u001b[0;34m)\u001b[0m\u001b[0;34m.\u001b[0m\u001b[0mx\u001b[0m\u001b[0;34m\u001b[0m\u001b[0;34m\u001b[0m\u001b[0m\n\u001b[0m\u001b[1;32m     38\u001b[0m         \u001b[0;32mif\u001b[0m \u001b[0mis_new\u001b[0m\u001b[0;34m(\u001b[0m\u001b[0mrt\u001b[0m\u001b[0;34m,\u001b[0m\u001b[0mroots_frob\u001b[0m\u001b[0;34m)\u001b[0m\u001b[0;34m:\u001b[0m\u001b[0;34m\u001b[0m\u001b[0;34m\u001b[0m\u001b[0m\n\u001b[1;32m     39\u001b[0m             \u001b[0mroots_frob\u001b[0m\u001b[0;34m.\u001b[0m\u001b[0mappend\u001b[0m\u001b[0;34m(\u001b[0m\u001b[0mrt\u001b[0m\u001b[0;34m)\u001b[0m\u001b[0;34m\u001b[0m\u001b[0;34m\u001b[0m\u001b[0m\n",
      "\u001b[0;32m~/opt/anaconda3/lib/python3.8/site-packages/scipy/optimize/_root.py\u001b[0m in \u001b[0;36mroot\u001b[0;34m(fun, x0, args, method, jac, tol, callback, options)\u001b[0m\n\u001b[1;32m    182\u001b[0m \u001b[0;34m\u001b[0m\u001b[0m\n\u001b[1;32m    183\u001b[0m     \u001b[0;32mif\u001b[0m \u001b[0mmeth\u001b[0m \u001b[0;34m==\u001b[0m \u001b[0;34m'hybr'\u001b[0m\u001b[0;34m:\u001b[0m\u001b[0;34m\u001b[0m\u001b[0;34m\u001b[0m\u001b[0m\n\u001b[0;32m--> 184\u001b[0;31m         \u001b[0msol\u001b[0m \u001b[0;34m=\u001b[0m \u001b[0m_root_hybr\u001b[0m\u001b[0;34m(\u001b[0m\u001b[0mfun\u001b[0m\u001b[0;34m,\u001b[0m \u001b[0mx0\u001b[0m\u001b[0;34m,\u001b[0m \u001b[0margs\u001b[0m\u001b[0;34m=\u001b[0m\u001b[0margs\u001b[0m\u001b[0;34m,\u001b[0m \u001b[0mjac\u001b[0m\u001b[0;34m=\u001b[0m\u001b[0mjac\u001b[0m\u001b[0;34m,\u001b[0m \u001b[0;34m**\u001b[0m\u001b[0moptions\u001b[0m\u001b[0;34m)\u001b[0m\u001b[0;34m\u001b[0m\u001b[0;34m\u001b[0m\u001b[0m\n\u001b[0m\u001b[1;32m    185\u001b[0m     \u001b[0;32melif\u001b[0m \u001b[0mmeth\u001b[0m \u001b[0;34m==\u001b[0m \u001b[0;34m'lm'\u001b[0m\u001b[0;34m:\u001b[0m\u001b[0;34m\u001b[0m\u001b[0;34m\u001b[0m\u001b[0m\n\u001b[1;32m    186\u001b[0m         \u001b[0msol\u001b[0m \u001b[0;34m=\u001b[0m \u001b[0m_root_leastsq\u001b[0m\u001b[0;34m(\u001b[0m\u001b[0mfun\u001b[0m\u001b[0;34m,\u001b[0m \u001b[0mx0\u001b[0m\u001b[0;34m,\u001b[0m \u001b[0margs\u001b[0m\u001b[0;34m=\u001b[0m\u001b[0margs\u001b[0m\u001b[0;34m,\u001b[0m \u001b[0mjac\u001b[0m\u001b[0;34m=\u001b[0m\u001b[0mjac\u001b[0m\u001b[0;34m,\u001b[0m \u001b[0;34m**\u001b[0m\u001b[0moptions\u001b[0m\u001b[0;34m)\u001b[0m\u001b[0;34m\u001b[0m\u001b[0;34m\u001b[0m\u001b[0m\n",
      "\u001b[0;32m~/opt/anaconda3/lib/python3.8/site-packages/scipy/optimize/minpack.py\u001b[0m in \u001b[0;36m_root_hybr\u001b[0;34m(func, x0, args, jac, col_deriv, xtol, maxfev, band, eps, factor, diag, **unknown_options)\u001b[0m\n\u001b[1;32m    235\u001b[0m         \u001b[0;32mif\u001b[0m \u001b[0mmaxfev\u001b[0m \u001b[0;34m==\u001b[0m \u001b[0;36m0\u001b[0m\u001b[0;34m:\u001b[0m\u001b[0;34m\u001b[0m\u001b[0;34m\u001b[0m\u001b[0m\n\u001b[1;32m    236\u001b[0m             \u001b[0mmaxfev\u001b[0m \u001b[0;34m=\u001b[0m \u001b[0;36m200\u001b[0m \u001b[0;34m*\u001b[0m \u001b[0;34m(\u001b[0m\u001b[0mn\u001b[0m \u001b[0;34m+\u001b[0m \u001b[0;36m1\u001b[0m\u001b[0;34m)\u001b[0m\u001b[0;34m\u001b[0m\u001b[0;34m\u001b[0m\u001b[0m\n\u001b[0;32m--> 237\u001b[0;31m         retval = _minpack._hybrd(func, x0, args, 1, xtol, maxfev,\n\u001b[0m\u001b[1;32m    238\u001b[0m                                  ml, mu, epsfcn, factor, diag)\n\u001b[1;32m    239\u001b[0m     \u001b[0;32melse\u001b[0m\u001b[0;34m:\u001b[0m\u001b[0;34m\u001b[0m\u001b[0;34m\u001b[0m\u001b[0m\n",
      "\u001b[0;32m<ipython-input-12-32f6eaf9b2bf>\u001b[0m in \u001b[0;36mfunc_frob\u001b[0;34m(x)\u001b[0m\n\u001b[1;32m      7\u001b[0m \u001b[0;34m\u001b[0m\u001b[0m\n\u001b[1;32m      8\u001b[0m \u001b[0;32mdef\u001b[0m \u001b[0mfunc_frob\u001b[0m\u001b[0;34m(\u001b[0m\u001b[0mx\u001b[0m\u001b[0;34m)\u001b[0m\u001b[0;34m:\u001b[0m\u001b[0;34m\u001b[0m\u001b[0;34m\u001b[0m\u001b[0m\n\u001b[0;32m----> 9\u001b[0;31m     \u001b[0;32mreturn\u001b[0m \u001b[0mphi_frob_a\u001b[0m\u001b[0;34m(\u001b[0m\u001b[0mx\u001b[0m\u001b[0;34m)\u001b[0m\u001b[0;34m,\u001b[0m\u001b[0mphi_frob_R\u001b[0m\u001b[0;34m(\u001b[0m\u001b[0mx\u001b[0m\u001b[0;34m)\u001b[0m\u001b[0;34m\u001b[0m\u001b[0;34m\u001b[0m\u001b[0m\n\u001b[0m\u001b[1;32m     10\u001b[0m \u001b[0;34m\u001b[0m\u001b[0m\n\u001b[1;32m     11\u001b[0m \u001b[0;32mdef\u001b[0m \u001b[0mfunc_bessel\u001b[0m\u001b[0;34m(\u001b[0m\u001b[0mx\u001b[0m\u001b[0;34m)\u001b[0m\u001b[0;34m:\u001b[0m\u001b[0;34m\u001b[0m\u001b[0;34m\u001b[0m\u001b[0m\n",
      "\u001b[0;32m<ipython-input-12-32f6eaf9b2bf>\u001b[0m in \u001b[0;36m<lambda>\u001b[0;34m(x)\u001b[0m\n\u001b[1;32m      1\u001b[0m \u001b[0;32mfrom\u001b[0m \u001b[0mscipy\u001b[0m\u001b[0;34m.\u001b[0m\u001b[0moptimize\u001b[0m \u001b[0;32mimport\u001b[0m \u001b[0mroot\u001b[0m\u001b[0;34m\u001b[0m\u001b[0;34m\u001b[0m\u001b[0m\n\u001b[1;32m      2\u001b[0m \u001b[0;34m\u001b[0m\u001b[0m\n\u001b[0;32m----> 3\u001b[0;31m \u001b[0mphi_frob_a\u001b[0m \u001b[0;34m=\u001b[0m \u001b[0;32mlambda\u001b[0m \u001b[0mx\u001b[0m\u001b[0;34m:\u001b[0m \u001b[0mphi_frob\u001b[0m\u001b[0;34m(\u001b[0m\u001b[0ma\u001b[0m\u001b[0;34m,\u001b[0m\u001b[0mx\u001b[0m\u001b[0;34m)\u001b[0m\u001b[0;34m\u001b[0m\u001b[0;34m\u001b[0m\u001b[0m\n\u001b[0m\u001b[1;32m      4\u001b[0m \u001b[0mphi_frob_R\u001b[0m \u001b[0;34m=\u001b[0m \u001b[0;32mlambda\u001b[0m \u001b[0mx\u001b[0m\u001b[0;34m:\u001b[0m \u001b[0mphi_frob\u001b[0m\u001b[0;34m(\u001b[0m\u001b[0mR\u001b[0m\u001b[0;34m,\u001b[0m\u001b[0mx\u001b[0m\u001b[0;34m)\u001b[0m\u001b[0;34m\u001b[0m\u001b[0;34m\u001b[0m\u001b[0m\n\u001b[1;32m      5\u001b[0m \u001b[0mphi_bessel_a\u001b[0m \u001b[0;34m=\u001b[0m \u001b[0;32mlambda\u001b[0m \u001b[0mx\u001b[0m\u001b[0;34m:\u001b[0m \u001b[0mphi_bessel\u001b[0m\u001b[0;34m(\u001b[0m\u001b[0ma\u001b[0m\u001b[0;34m,\u001b[0m\u001b[0mx\u001b[0m\u001b[0;34m)\u001b[0m\u001b[0;34m\u001b[0m\u001b[0;34m\u001b[0m\u001b[0m\n",
      "\u001b[0;32m<ipython-input-11-985ea2c2508b>\u001b[0m in \u001b[0;36mphi_frob\u001b[0;34m(r, par)\u001b[0m\n\u001b[1;32m     10\u001b[0m     \u001b[0ma2\u001b[0m \u001b[0;34m=\u001b[0m \u001b[0mnp\u001b[0m\u001b[0;34m.\u001b[0m\u001b[0mzeros\u001b[0m\u001b[0;34m(\u001b[0m\u001b[0mN\u001b[0m\u001b[0;34m)\u001b[0m\u001b[0;34m\u001b[0m\u001b[0;34m\u001b[0m\u001b[0m\n\u001b[1;32m     11\u001b[0m     \u001b[0ma1\u001b[0m\u001b[0;34m[\u001b[0m\u001b[0;36m0\u001b[0m\u001b[0;34m]\u001b[0m \u001b[0;34m=\u001b[0m \u001b[0;36m1\u001b[0m\u001b[0;34m\u001b[0m\u001b[0;34m\u001b[0m\u001b[0m\n\u001b[0;32m---> 12\u001b[0;31m     \u001b[0ma2\u001b[0m\u001b[0;34m[\u001b[0m\u001b[0;36m0\u001b[0m\u001b[0;34m]\u001b[0m \u001b[0;34m=\u001b[0m \u001b[0;36m1\u001b[0m\u001b[0;34m\u001b[0m\u001b[0;34m\u001b[0m\u001b[0m\n\u001b[0m\u001b[1;32m     13\u001b[0m \u001b[0;34m\u001b[0m\u001b[0m\n\u001b[1;32m     14\u001b[0m     \u001b[0mc\u001b[0m \u001b[0;34m=\u001b[0m \u001b[0mkappa\u001b[0m \u001b[0;34m-\u001b[0m\u001b[0mQ\u001b[0m\u001b[0;34m/\u001b[0m\u001b[0mpi\u001b[0m\u001b[0;34m\u001b[0m\u001b[0;34m\u001b[0m\u001b[0m\n",
      "\u001b[0;31mKeyboardInterrupt\u001b[0m: "
     ]
    }
   ],
   "source": [
    "from scipy.optimize import root\n",
    "\n",
    "phi_frob_a = lambda x: phi_frob(a,x)\n",
    "phi_frob_R = lambda x: phi_frob(R,x)\n",
    "phi_bessel_a = lambda x: phi_bessel(a,x)\n",
    "phi_bessel_R = lambda x: phi_bessel(R,x)\n",
    "\n",
    "def func_frob(x):\n",
    "    return phi_frob_a(x),phi_frob_R(x)\n",
    "\n",
    "def func_bessel(x):\n",
    "    return phi_bessel_a(x),phi_bessel_R(x)\n",
    "\n",
    "\n",
    "\n",
    "def is_new(r,roots):\n",
    "    temp = True\n",
    "    for j in range(len(roots)):\n",
    "        if ( abs(r[0]-roots[j][0])<0.01*abs(r[0]) ) and ( abs(r[1]-roots[j][1])<0.01*abs(r[1]) ):\n",
    "            temp = False\n",
    "    return temp\n",
    "\n",
    "roots_frob = []\n",
    "roots_bessel = []\n",
    "\n",
    "# Find roots of frob\n",
    "print('Frob:')\n",
    "for i in np.logspace(-10,4,20):\n",
    "    for j in np.logspace(-10,4,20):\n",
    "        rt = root(func_frob, x0 =(i,j)).x\n",
    "        if is_new(rt,roots_frob):\n",
    "            roots_frob.append(rt)\n",
    "            #print(rt)\n",
    "\n",
    "for i in np.linspace(3e-5,1,20):\n",
    "    for j in np.linspace(-10,10,20):\n",
    "        rt = root(func_frob, x0 =(i,j)).x\n",
    "        if is_new(rt,roots_frob):\n",
    "            roots_frob.append(rt)\n",
    "            #print(rt)\n",
    "\n",
    "# Find roots of bessel\n",
    "print('Bessel:')\n",
    "for i in np.logspace(-10,-1,20):\n",
    "    for j in np.linspace(-10,10,20):\n",
    "        rt = root(func_bessel, x0 =(i,j)).x\n",
    "        if is_new(rt,roots_bessel):\n",
    "            roots_bessel.append(rt)\n",
    "            #print(rt)\n",
    "\n",
    "for i in np.linspace(3e-5,3e-2,20):\n",
    "    for j in np.linspace(-10,10,20):\n",
    "        rt = root(func_bessel, x0 =(i,j)).x\n",
    "        if is_new(rt,roots_bessel):\n",
    "            roots_bessel.append(rt)\n",
    "            #print(rt)\n"
   ]
  },
  {
   "cell_type": "code",
   "execution_count": null,
   "metadata": {
    "scrolled": true
   },
   "outputs": [],
   "source": [
    "# r = np.linspace(a,R,100)\n",
    "\n",
    "# for i in range(len(roots_frob)):\n",
    "#     plt.figure()\n",
    "#     plt.title(str(roots_frob[i]))\n",
    "#     plt.plot(r,phi_frob(r,roots_frob[i]))\n",
    "#     plt.hlines(0,a,R)\n",
    "#     plt.show()\n",
    "    \n",
    "# for i in range(len(roots_bessel)):\n",
    "#     plt.figure()\n",
    "#     plt.title(str(roots_bessel[i]))\n",
    "#     plt.plot(r,phi_bessel(r,roots_bessel[i]))\n",
    "#     plt.hlines(0,a,R)\n",
    "#     plt.show()"
   ]
  },
  {
   "cell_type": "code",
   "execution_count": 19,
   "metadata": {
    "scrolled": false
   },
   "outputs": [
    {
     "data": {
      "image/png": "[encoded data removed]",
      "text/plain": [
       "<Figure size 432x288 with 1 Axes>"
      ]
     },
     "metadata": {
      "needs_background": "light"
     },
     "output_type": "display_data"
    }
   ],
   "source": [
    "good_roots_frob = np.array([[3.48339649e-05,-2.16393671e+00], #n=0\n",
    "                            [1.64307692e-04,-2.17458895e+00], #n=1\n",
    "                            [6.98585599e-04,-2.22566723e+00], #n=2\n",
    "                            [3.84908565e-04,-2.19417209e+00]]) #n=3\n",
    "\n",
    "good_roots_bessel = np.array([[3.94030436e-05,7.61848195e-01], #n=0\n",
    "                              [1.71476791e-04,1.36154281e+00], #n=1\n",
    "                              [3.94842613e-04,2.49685017e+00], #n=2\n",
    "                              [7.08883157e-04,6.97900847e+00], #n=3\n",
    "                              [1.11333787e-03,-1.12220582e+01], #n=4\n",
    "                              [1.60807412e-03,-3.06309775e+00], #n=5\n",
    "                              [2.19302e-03,-1.67100131e+00], #n=6\n",
    "                              [2.86812e-03,-1.05017646e+00], #n=7\n",
    "                              [3.63335e-03,-0.66912985e+00], #n=8\n",
    "                              [4.4887e-03,-0.38862351e+00], #n=9\n",
    "                              [5.43415e-03,-0.15366476e+00], #n=10\n",
    "                              [6.46968e-03,0.065137e+00], #n=11\n",
    "                              [7.5953e-03,0.2897497e+00], #n=12\n",
    "                              [8.81099e-03,0.54445193e+00], #n=13\n",
    "                              [1.011676e-02,0.86784664e+00], #n=14\n",
    "                              [1.15126e-02,1.34271697e+00], #n=15\n",
    "                              [1.29985e-02,2.21252377e+00], #n=16\n",
    "                              [1.457447e-02,4.71344792e+00], #n=17\n",
    "                              [1.62405098e-02,-2.61426615e+02], #n=18\n",
    "                              [1.799661e-02,-4.44488786e+00]]) #n=20\n",
    "\n",
    "def cov_frob_bessel(roots):\n",
    "    \"\"\"Zouden de roots niet gelijk moeten zijn?\"\"\"\n",
    "    return \n",
    "\n",
    "rho = [integrate.quad(lambda r: phi_bessel(r, good_roots_bessel[i])**2, a, R)[0] for i in range(len(good_roots_bessel))]\n",
    "\n",
    "r = np.linspace(a,R, 100)\n",
    "\n",
    "\n",
    "plt.figure()\n",
    "for i in range(5):\n",
    "    plt.plot(r, phi_bessel(r,good_roots_bessel[i])/rho[i])\n",
    "plt.show()\n",
    "    "
   ]
  },
  {
   "cell_type": "code",
   "execution_count": null,
   "metadata": {},
   "outputs": [],
   "source": []
  },
  {
   "cell_type": "markdown",
   "metadata": {},
   "source": [
    "## Solving for $f(t)$  \n",
    "\n",
    "$$f(t) = \\left[\\frac{\\kappa}{R-a} -\\frac{k}{L} \\right]^{-1} \\left(\\kappa \\sum_{n=0}^{\\infty} T_n(t) \\phi_n'(a) + \\frac{\\kappa}{R-a} - k \\sum_{n=0}^{\\infty} T_n(t) \\phi_n'(0) \\right)$$\n",
    "where $$T_n(t) = e^{-\\lambda_n t} \\int u(x,0) \\phi_n(x) dx + e^{-\\lambda_n t} \\int_{0}^{t} q_n(\\tau)e^{\\lambda_n \\tau} d\\tau$$"
   ]
  },
  {
   "cell_type": "code",
   "execution_count": 10,
   "metadata": {},
   "outputs": [],
   "source": [
    "N_r = 19 #len(good_roots_bessel)\n",
    "N_x = 30\n",
    "\n",
    "def phi_r_n(r,n):\n",
    "    return phi_bessel(r, good_roots_bessel[n-1])\n",
    "\n",
    "def labda_r_n(n):\n",
    "    return good_roots_bessel[n-1][0]\n",
    "\n",
    "def phi_x_n(x,n):\n",
    "    return np.exp(-Q/(2*k*A)*x)*np.sin(n*pi*x/L)\n",
    "\n",
    "def labda_x_n(n):\n",
    "    return (Q/A)**2/(4*k) + k*(n*pi/L)**2\n",
    "\n",
    "def phi_x_prime(x,n):\n",
    "    return n*pi/L\n",
    "\n",
    "def phi_r_prime(r,n):\n",
    "    c = order\n",
    "    w = np.sqrt(good_roots_bessel[n-1][0]/kappa)\n",
    "    d = good_roots_bessel[n-1][1]\n",
    "    \n",
    "    T1 = d*w*r*yv(c-1, w*r)\n",
    "    T2 = 2*c*d*yv(c, w*r)\n",
    "    T3 = -d*w*r*yv(c+1,w*r)\n",
    "    T4 = w*r*jv(c-1,w*r)\n",
    "    T5 = 2*c*jv(c,w*r)\n",
    "    T6 = -w*r*jv(c+1,w*r)\n",
    "    return 0.5*r**(c-1)*(T1+T2+T3+T5+T6)"
   ]
  },
  {
   "cell_type": "code",
   "execution_count": 11,
   "metadata": {},
   "outputs": [],
   "source": [
    "# initial conditions: \n",
    "def u(x):\n",
    "    return (a/R)**(0.5*Q/(kappa*pi))*np.exp(-2*Q*x/(k*A)) -(1-x/L)*(a/R)**(Q/(kappa*pi))*np.exp(-2*Q*x/(k*A))\n",
    "\n",
    "def v(r):\n",
    "    f = (a/R)**(0.5*Q/(kappa*pi))\n",
    "    return (r/R)**(0.5*Q/(kappa*pi)) - ((f-1)/(a-R)*r + (R*f-a)/(R-a))\n"
   ]
  },
  {
   "cell_type": "code",
   "execution_count": 78,
   "metadata": {},
   "outputs": [],
   "source": [
    "def h(n, fi, fi1):\n",
    "    \"Returns H(r,t) at t=t_i, given fi and f_i-1\"\n",
    "    f_prime = (fi-fi1)/dt\n",
    "    return integrate.quad(lambda r: (f_prime*(R-r)/(R-a) + (kappa-Q/pi)/r *(fi-1)/(a-R))*phi_r_n(r,n), a, R)[0] / integrate.quad(lambda r: phi_r_n(r,n)**2, a, R)[0]\n",
    "\n",
    "def l(n, fi, fi1):\n",
    "    f_prime = (fi-fi1)/dt\n",
    "    return integrate.quad(lambda x: (f_prime*(1-x/L) -Q*fi/(A*L))*phi_x_n(x,n),0,L)[0] / integrate.quad(lambda x: phi_x_n(x,n)**2, 0, L)[0]\n",
    "\n",
    "def sumx(fi,fi1, j):\n",
    "    #print('sumx',j)\n",
    "    res = 0\n",
    "    for i in range(1,N_x+1):\n",
    "        tn0 = integrate.quad(lambda x: u(x)*phi_x_n(x,i), 0, L)[0]\n",
    "        \n",
    "        Ix[j,i] = Ix[j-1,i] + dt*l(i,fi,fi1)*np.exp(labda_x_n(i)*t[j])\n",
    "        res += np.exp(-labda_x_n(i)*t[j])*(tn0 + Ix[j,i])*phi_x_prime(0,i)\n",
    "    return res\n",
    "\n",
    "def sumr(fi,fi1, j):\n",
    "    #print('sumr',j)\n",
    "    res = 0\n",
    "    for i in range(1,N_r+1):\n",
    "        tn0 = integrate.quad(lambda r: v(r)*phi_r_n(r,i), a, R)[0]\n",
    "        Ir[j,i] = Ir[j-1,i] + dt*h(i,fi,fi1)*np.exp(labda_r_n(i)*t[j])\n",
    "        res += np.exp(-labda_r_n(i)*t[j])*(tn0 + Ir[j,i])*phi_r_prime(a,i)\n",
    "    return res\n",
    "\n",
    "\n",
    "def total(fi,fi1, i):\n",
    "    #print('total',i)\n",
    "    c = 1/(kappa/(R-a)-k/L)\n",
    "    s1= sumx(fi,fi1, i)\n",
    "    s2= sumr(fi,fi1, i)\n",
    "    return c*(kappa*s1 + kappa/(R-a) - k*s2) - fi\n",
    "\n",
    "dt = 1e-2\n",
    "t = np.arange(0,1e-0,dt)\n",
    "f = np.zeros(len(t))\n",
    "f[0] = 0.6\n",
    "\n",
    "Ix = np.zeros((len(t)+1, N_x+1))\n",
    "Ir = np.zeros((len(t)+1, N_r+1))"
   ]
  },
  {
   "cell_type": "code",
   "execution_count": 79,
   "metadata": {},
   "outputs": [],
   "source": [
    "# for j in range(1,len(t)):\n",
    "#     func_f = lambda x: total(x, f[j-1], j)\n",
    "#     print(j)\n",
    "#     f[j] = root(func_f, x0=f[j-1]).x\n"
   ]
  },
  {
   "cell_type": "code",
   "execution_count": 80,
   "metadata": {},
   "outputs": [
    {
     "name": "stdout",
     "output_type": "stream",
     "text": [
      "[0.6 0.  0.  0.  0.  0.  0.  0.  0.  0.  0.  0.  0.  0.  0.  0.  0.  0.\n",
      " 0.  0.  0.  0.  0.  0.  0.  0.  0.  0.  0.  0.  0.  0.  0.  0.  0.  0.\n",
      " 0.  0.  0.  0.  0.  0.  0.  0.  0.  0.  0.  0.  0.  0.  0.  0.  0.  0.\n",
      " 0.  0.  0.  0.  0.  0.  0.  0.  0.  0.  0.  0.  0.  0.  0.  0.  0.  0.\n",
      " 0.  0.  0.  0.  0.  0.  0.  0.  0.  0.  0.  0.  0.  0.  0.  0.  0.  0.\n",
      " 0.  0.  0.  0.  0.  0.  0.  0.  0.  0. ]\n"
     ]
    },
    {
     "data": {
      "image/png": "[encoded data removed]",
      "text/plain": [
       "<Figure size 432x288 with 1 Axes>"
      ]
     },
     "metadata": {
      "needs_background": "light"
     },
     "output_type": "display_data"
    }
   ],
   "source": [
    "print(f)\n",
    "\n",
    "plt.figure()\n",
    "plt.plot(t, f)\n",
    "plt.hlines((a/R)**(0.5*Q/(kappa*pi)), 0, t[-1], 'g')\n",
    "plt.show()"
   ]
  },
  {
   "cell_type": "code",
   "execution_count": null,
   "metadata": {},
   "outputs": [],
   "source": []
  },
  {
   "cell_type": "markdown",
   "metadata": {},
   "source": [
    "## Final solution\n",
    "Now that we have the eigenfunctions and $f(t)$ is approximated, we will build the final solution.  \n",
    "  \n",
    "First we linearly interpolate the discrete solution for $f(t)$:"
   ]
  },
  {
   "cell_type": "code",
   "execution_count": 81,
   "metadata": {},
   "outputs": [],
   "source": [
    "# def f_interp(T):\n",
    "#     if T< t[-1]:\n",
    "#         for i in range(1,len(t)):\n",
    "#             if t[i-1]<= T <= t[i]:\n",
    "#                 return f[i] + (T-t[i-1])*(f[i]-f[i-1])\n",
    "#     else:\n",
    "#         return f[-1]\n",
    "    \n",
    "# def f_prime_interp(T):\n",
    "#     if T< t[-1]:\n",
    "#         for i in range(1,len(t)-1):\n",
    "#             if t[i-1]<= T <= t[i]:\n",
    "#                 return (f[i] - f[i-2])/(2*dt) + (T-t[i-1])* (f[i+1] - f[i-1])/(2*dt)\n",
    "#     else:\n",
    "#         return (f[-1] -f[-2])/dt\n",
    "\n",
    "\n",
    "# Guess\n",
    "time_constant = 0.1\n",
    "def f_interp(T):\n",
    "    eq1 = (a/R)**(0.5*Q/(kappa*pi))\n",
    "    eq2 = (a/R)**(Q/(kappa*pi))\n",
    "    return eq2 + (eq1-eq2)*np.exp(-time_constant*T)\n",
    "\n",
    "def f_prime_interp(T):\n",
    "    eq1 = (a/R)**(0.5*Q/(kappa*pi))\n",
    "    eq2 = (a/R)**(Q/(kappa*pi))\n",
    "    return -time_constant*(eq1-eq2)*np.exp(-time_constant*T)"
   ]
  },
  {
   "cell_type": "markdown",
   "metadata": {},
   "source": [
    "Now we calulate $s(x,t)$ and $\\zeta(x,t)$:"
   ]
  },
  {
   "cell_type": "code",
   "execution_count": 82,
   "metadata": {},
   "outputs": [],
   "source": [
    "def psi(r,t):\n",
    "    return (f_interp(t)-1)/(a-R)*r + (R*f_interp(t)-a)/(R-a)\n",
    "\n",
    "def xi(x,t):\n",
    "    return f_interp(t)*(1-x/L)\n",
    "\n",
    "# initial conditions: ###  COPY  @@@\n",
    "\n",
    "def ss0(x):\n",
    "    return (a/R)**(0.5*Q/(kappa*pi))*(1-x/L)\n",
    "    return (a/R)**(0.5*Q/(kappa*pi))*np.exp(-0.5*Q*x/(k*A))\n",
    "\n",
    "def ss1(r):\n",
    "    #return (1-(a/R)**(0.5*Q/(kappa*pi)))/(R-a)*r + 1-R*(1-(a/R)**(0.5*Q/(kappa*pi)))/(R-a)\n",
    "    return (r/R)**(0.5*Q/(kappa*pi))\n",
    "\n",
    "def u(x):\n",
    "    return ss0(x) - xi(x,0)\n",
    "\n",
    "def v(r):\n",
    "    return ss1(r) - psi(r,0)\n",
    "\n",
    "# def u(x):\n",
    "#     return (a/R)**(0.5*Q/(kappa*pi))*np.exp(-2*Q*x/(k*A)) -(1-x/L)*(a/R)**(Q/(kappa*pi))*np.exp(-2*Q*x/(k*A))\n",
    "\n",
    "# def v(r):\n",
    "#     f = (a/R)**(0.5*Q/(kappa*pi))\n",
    "#     return (r/R)**(0.5*Q/(kappa*pi)) - ((f-1)/(a-R)*r + (R*f-a)/(R-a))\n"
   ]
  },
  {
   "cell_type": "code",
   "execution_count": 83,
   "metadata": {},
   "outputs": [],
   "source": [
    "def H(r,t):\n",
    "    psi_t = f_prime_interp(t)*r/(a-R) + R*f_prime_interp(t)/(R-a)\n",
    "    psi_rr = 0\n",
    "    psi_r = (f_interp(t)-1)/(a-R)\n",
    "    return -psi_t + kappa*psi_rr + (kappa-Q/pi)/r*psi_r\n",
    "\n",
    "def Lf(x,t):\n",
    "    xi_t = f_prime_interp(t)*(1-x/L)\n",
    "    xi_xx = 0\n",
    "    xi_x = -f_interp(t)/L\n",
    "    return -xi_t + k*xi_xx + Q/A*xi_x\n",
    "\n",
    "\n",
    "def h(tau,n):\n",
    "    return integrate.quad(lambda r: H(r,tau)*phi_r_n(r,n), a, R)[0]\n",
    "\n",
    "def l(tau,n):\n",
    "    return integrate.quad(lambda x: Lf(x,tau)*phi_x_n(x,n), 0, L)[0]\n",
    "\n",
    "def T0_r(n):\n",
    "    return integrate.quad(lambda r: v(r)*phi_r_n(r,n), a, R)[0]/integrate.quad(lambda r: phi_r_n(r,n)**2, a, R)[0]\n",
    "\n",
    "def T0_x(n):\n",
    "    return integrate.quad(lambda x: u(x)*phi_x_n(x,n), 0, L)[0]/integrate.quad(lambda x: phi_x_n(x,n)**2, 0, L)[0]\n",
    "\n",
    "def T_x(t,n):\n",
    "    return np.exp(-labda_x_n(n)*t)*T0_x(n) + np.exp(-labda_x_n(n)*t) * integrate.quad(lambda tau: l(tau, n)*np.exp(labda_x_n(n)*tau), 0, t)[0]/integrate.quad(lambda x: phi_x_n(x,n)**2, 0, L)[0]\n",
    "\n",
    "def T_r(t,n):\n",
    "    return np.exp(-labda_r_n(n)*t)*T0_r(n) + np.exp(-labda_r_n(n)*t) * integrate.quad(lambda tau: h(tau, n)*np.exp(labda_r_n(n)*tau), 0, t)[0]/integrate.quad(lambda r: phi_r_n(r,n)**2, a, R)[0]\n",
    "\n",
    "def sol_r(r,t):\n",
    "    res = 0\n",
    "    for i in range(1,N_r):\n",
    "        res += T_r(t,i)*phi_r_n(r,i)\n",
    "    return res + psi(r,t)\n",
    "\n",
    "def sol_x(x,t):\n",
    "    res = 0\n",
    "    for i in range(1,N_x):\n",
    "        res += T_x(t,i)*phi_x_n(x,i)\n",
    "    return res + xi(x,t)"
   ]
  }
 ],
 "metadata": {
  "kernelspec": {
   "display_name": "Python 3",
   "language": "python",
   "name": "python3"
  },
  "language_info": {
   "codemirror_mode": {
    "name": "ipython",
    "version": 3
   },
   "file_extension": ".py",
   "mimetype": "text/x-python",
   "name": "python",
   "nbconvert_exporter": "python",
   "pygments_lexer": "ipython3",
   "version": "3.8.5"
  }
 },
 "nbformat": 4,
 "nbformat_minor": 4
}
