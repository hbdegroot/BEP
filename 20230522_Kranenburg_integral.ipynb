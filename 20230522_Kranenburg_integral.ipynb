{
 "cells": [
  {
   "cell_type": "code",
   "execution_count": 1,
   "metadata": {},
   "outputs": [],
   "source": [
    "import numpy as np\n",
    "from scipy import integrate\n",
    "from numpy import pi"
   ]
  },
  {
   "cell_type": "code",
   "execution_count": 2,
   "metadata": {},
   "outputs": [],
   "source": [
    "Q = 150\n",
    "A = 2000\n",
    "k = 400\n",
    "kappa = 400\n",
    "L = 10000\n",
    "R = 10000\n",
    "D = 1\n",
    "\n",
    "a = A/(pi*D)"
   ]
  },
  {
   "cell_type": "code",
   "execution_count": 3,
   "metadata": {},
   "outputs": [
    {
     "name": "stdout",
     "output_type": "stream",
     "text": [
      "13037.246185272978\n",
      "43605.3393602989\n",
      "56642.58554557188\n"
     ]
    }
   ],
   "source": [
    "def s_Qx(x):\n",
    "    o = Q/(kappa*pi*D)\n",
    "    u = Q/(k*A)\n",
    "    \n",
    "    n = (R/a)**o - np.exp(-u*L)\n",
    "    \n",
    "    T1 = n * ( -x/(k*A)*np.exp(-u*x) + L/(k*A)*np.exp(-u*L) )\n",
    "    T2 = ( np.exp(-u*x) - np.exp(-u*L) ) * ( 1/(kappa*pi*D)*np.log(R/a)*(R/a)**o )\n",
    "    \n",
    "    return (T1 - T2)/n**2 \n",
    "\n",
    "def s_Qr(r):\n",
    "    o = Q/(kappa*pi*D)\n",
    "    u = Q/(k*A)\n",
    "    \n",
    "    n = R**o - a**o * np.exp(-u*L)\n",
    "    \n",
    "    T1 = n * 1/(kappa*pi*D)*( np.log(r)*r**o - np.log(R)*R**o )\n",
    "    T2 = ( r**o  - R**o ) * ( 1/(kappa*pi*D) * ( np.log(R)*R**o - np.log(a)*a**o * np.exp(-u*L) ) + L/(k*A)*a**o * np.exp(-u*L) )\n",
    "    \n",
    "    return (T1 - T2)/n**2 \n",
    "\n",
    "\n",
    "tsx = integrate.quad(lambda ksi: np.abs(A*s_Qx(ksi)), 0, L)[0]\n",
    "tsr = integrate.quad(lambda psi: np.abs(pi*psi*D*s_Qr(psi)), a, R)[0]\n",
    "\n",
    "print(tsx)\n",
    "print(tsr)\n",
    "print(tsx + tsr)"
   ]
  },
  {
   "cell_type": "code",
   "execution_count": null,
   "metadata": {},
   "outputs": [],
   "source": []
  }
 ],
 "metadata": {
  "kernelspec": {
   "display_name": "Python 3",
   "language": "python",
   "name": "python3"
  },
  "language_info": {
   "codemirror_mode": {
    "name": "ipython",
    "version": 3
   },
   "file_extension": ".py",
   "mimetype": "text/x-python",
   "name": "python",
   "nbconvert_exporter": "python",
   "pygments_lexer": "ipython3",
   "version": "3.8.5"
  }
 },
 "nbformat": 4,
 "nbformat_minor": 4
}
