{
 "cells": [
  {
   "cell_type": "code",
   "execution_count": 33,
   "metadata": {},
   "outputs": [],
   "source": [
    "import numpy as np\n",
    "import matplotlib.pyplot as plt"
   ]
  },
  {
   "cell_type": "markdown",
   "metadata": {},
   "source": [
    "$$\\frac{\\partial s}{\\partial t} = \\frac{Q}{A}\\frac{\\partial^2 s}{\\partial x^2} +k\\frac{\\partial s}{\\partial x} + h[s-1] \\mathbb{1}_{[0,B]}$$"
   ]
  },
  {
   "cell_type": "code",
   "execution_count": 90,
   "metadata": {},
   "outputs": [],
   "source": [
    "Q = 150  # m/s^3\n",
    "A = 2000 # m^2\n",
    "k = 400\n",
    "h = 0.00000001*k       # From factor 0.00000001 reasonable result!\n",
    "\n",
    "B = 3000 # m"
   ]
  },
  {
   "cell_type": "markdown",
   "metadata": {},
   "source": [
    " ## Steady-state  \n",
    "   \n",
    "for $x>B$: $$ 0 = \\frac{Q}{A}\\frac{\\partial^2 s}{\\partial x^2} +k\\frac{\\partial s}{\\partial x}$$\n",
    "such that $$\\tilde{s}(x) = \\gamma e^{-\\frac{Q}{kA}x}$$\n",
    "\n",
    "for $0<x<B$: $$ 0 = \\frac{Q}{A}\\frac{\\partial^2 s}{\\partial x^2} +k\\frac{\\partial s}{\\partial x} + h[s-1]$$\n",
    "such that $$\\tilde{s}(x) = e^{-\\frac{Q}{2kA}x} \\left ( \\alpha \\sin(\\omega x) + \\beta \\cos(\\omega x) \\right )$$\n",
    "where $\\omega = \\sqrt{4kh -(Q/A)^2}/2k$.  \n",
    "  \n",
    "By posing the 'stitching' requirements $\\tilde{s}(B^+) = \\tilde{s}(B^-)$ and $\\tilde{s}_x(B^+) = \\tilde{s}_x(B^-)$ we can solve for $\\alpha, \\beta, \\gamma$."
   ]
  },
  {
   "cell_type": "code",
   "execution_count": 91,
   "metadata": {},
   "outputs": [
    {
     "name": "stdout",
     "output_type": "stream",
     "text": [
      "Warning: D<0 -> oscillating solution!\n"
     ]
    }
   ],
   "source": [
    "D = (Q/A)**2-4*k*h\n",
    "if  D < 0:\n",
    "    print('Warning: D<0 -> oscillating solution!')\n",
    "    r = np.sqrt(-D)/(2*k)\n",
    "    #print(r)\n",
    "    M = np.array([[0,1,0],[np.exp(-Q/(2*k*A)*B)*np.sin(r*B), np.exp(-Q/(2*k*A)*B)*np.cos(r*B), -np.exp(-Q*B/(k*A))],[np.exp(-Q/(2*k*A)*B)*(r*np.cos(r*B) -Q/(2*k*A)*np.sin(r*B)), np.exp(-Q/(2*k*A)*B)*(-r*np.sin(r*B) -Q/(2*k*A)*np.cos(r*B)), Q/(k*A)*np.exp(-Q*B/(k*A))]])\n",
    "    coeff = np.linalg.inv(M) @ np.array([2,1,0])\n",
    "    \n",
    "else:\n",
    "    r1 = (-Q/A + np.sqrt((Q/A)**2-4*k*h))/(2*k)\n",
    "    r2 = (-Q/A - np.sqrt((Q/A)**2-4*k*h))/(2*k)\n",
    "    \n",
    "    M = np.array([[1,1,0],[np.exp(r1*B), np.exp(r2*B), -np.exp(-Q*B/(k*A))],[r1*np.exp(r1*B), r2*np.exp(r2*B), Q/(k*A)*np.exp(-Q*B/(k*A))]])\n",
    "    coeff = np.linalg.inv(M) @ np.array([2,1,0])\n",
    "\n",
    "def f(x):\n",
    "    if D<0:\n",
    "        if x>B: return coeff[2]*np.exp(-Q/(k*A)*x)\n",
    "        if x<=B: return np.exp(-Q/(2*k*A)*x)*(coeff[0]*np.sin(r*x)+coeff[1]*np.cos(r*x)) -1\n",
    "    else:\n",
    "        if x>B: return coeff[2]*np.exp(-Q/(k*A)*x)\n",
    "        if x<=B: return coeff[0]*np.exp(r1*x) + coeff[1]*np.exp(r2*x) -1\n",
    "\n",
    "def f0(x):\n",
    "    if x>B: return np.exp(-Q/(k*A)*(x-B))\n",
    "    else: return 1\n",
    "    \n",
    "def fr(x):\n",
    "    if x>0: return np.exp(-Q/(k*A)*(x))\n",
    "    else: return 1"
   ]
  },
  {
   "cell_type": "code",
   "execution_count": 92,
   "metadata": {},
   "outputs": [
    {
     "data": {
      "image/png": "[encoded data removed]",
      "text/plain": [
       "<Figure size 432x288 with 1 Axes>"
      ]
     },
     "metadata": {
      "needs_background": "light"
     },
     "output_type": "display_data"
    }
   ],
   "source": [
    "x = np.linspace(0,10e3,1000)\n",
    "s = [f(x) for x in x]\n",
    "s0 = [f0(x) for x in x]\n",
    "sr = [fr(x) for x in x]\n",
    "\n",
    "plt.figure()\n",
    "plt.plot(x,s0, label='No sea')\n",
    "plt.plot(x,sr, label='sea as river')\n",
    "plt.plot(x,s, label='sea + source')\n",
    "plt.xlabel('x (m)')\n",
    "plt.ylabel('s (-)')\n",
    "plt.vlines(B,0,1, color='black')\n",
    "plt.legend()\n",
    "plt.show()"
   ]
  },
  {
   "cell_type": "code",
   "execution_count": null,
   "metadata": {},
   "outputs": [],
   "source": []
  },
  {
   "cell_type": "markdown",
   "metadata": {},
   "source": [
    "## Non-steady state\n",
    "\n",
    "Let's consider the non-steady state. We write $$s(x,t) = v(x,t) + \\tilde{s}(x)$$.\n",
    "Then for 0<x<B: $$\\frac{\\partial v}{\\partial t} = a\\frac{\\partial^2 v}{\\partial x^2} +b\\frac{\\partial v}{\\partial x} + cv + P(x)$$\n",
    "with homogenous boundary conditions.  \n",
    "  \n",
    "Now we attempt eigenfunction expansion: $$v(x,t) = \\sum_{n=1}^{\\infty} T_n^{(1)}(t) \\sin(\\frac{n\\pi x}{L}) + T_n^{(2)}(t) \\cos(\\frac{n\\pi x}{L})$$\n",
    "\n",
    "from which we arrive at the coupled system\n",
    "$$ \\frac{dT_n^{(1)}}{dt} = [-a (\\frac{n \\pi}{L})^2 +c] T_n^{(1)} - b \\frac{n\\pi}{L} T_n^{(2)} + q_n^{(s)}$$\n",
    "$$ \\frac{dT_n^{(2)}}{dt} = [-a (\\frac{n \\pi}{L})^2 +c] T_n^{(2)} + b \\frac{n\\pi}{L} T_n^{(1)} + q_n^{(c)}$$.\n",
    "  \n",
    "Solving this, yields $$\\textbf{T}_n(t) = X(t) \\textbf{x}^0 + X(t) I(t)$$\n",
    "\n",
    "where $$X(t) = e^{\\lambda_n t}\\begin{bmatrix}\n",
    "\\cos(\\mu_n t) & \\sin(\\mu_n t) \\\\\n",
    "\\sin(\\mu_n t) & -\\cos(\\mu_n t)\n",
    "\\end{bmatrix}$$\n",
    "\n",
    "with $\\lambda_n = -a(n\\pi/L)^2 +c, \\mu_n = b n\\pi /L$.  \n",
    "  \n",
    "$$\\textbf{I}(t) = \\frac{e^{-\\lambda_n t}}{\\lambda_n^2 + \\mu_n^2}\\begin{bmatrix}\n",
    "e^{\\lambda_n t} [-q_n^{(c)}\\mu_n + q_n^{(s)} \\lambda_n] + \\sin(\\mu_n t) [q_n^{(s)}\\mu_n + q_n^{(c)}\\lambda_n] -\\cos(\\mu_n t)[-q_n^{(c)}\\mu_n + q_n^{(s)}\\lambda_n ] \\\\\n",
    "e^{\\lambda_n t} [-q_n^{(s)}\\mu_n - q_n^{(c)} \\lambda_n] + \\sin(\\mu_n t) [-q_n^{(c)}\\mu_n + q_n^{(s)}\\lambda_n] -\\cos(\\mu_n t)[-q_n^{(s)}\\mu_n - q_n^{(c)}\\lambda_n ]\n",
    "\\end{bmatrix}$$\n",
    "\n",
    "and $\\textbf{x}^0 = [S_n(v(x,0)), C_n(v(x,0))]^T$"
   ]
  },
  {
   "cell_type": "code",
   "execution_count": null,
   "metadata": {},
   "outputs": [],
   "source": [
    "a = k\n",
    "b = Q/A\n",
    "c = h\n",
    "\n",
    "def s_tilde(x):\n",
    "    return np.exp(-Q/(k*A)*x)"
   ]
  }
 ],
 "metadata": {
  "kernelspec": {
   "display_name": "Python 3",
   "language": "python",
   "name": "python3"
  },
  "language_info": {
   "codemirror_mode": {
    "name": "ipython",
    "version": 3
   },
   "file_extension": ".py",
   "mimetype": "text/x-python",
   "name": "python",
   "nbconvert_exporter": "python",
   "pygments_lexer": "ipython3",
   "version": "3.8.5"
  }
 },
 "nbformat": 4,
 "nbformat_minor": 4
}
