{
 "cells": [
  {
   "cell_type": "code",
   "execution_count": 2,
   "metadata": {},
   "outputs": [],
   "source": [
    "import numpy as np\n",
    "import matplotlib.pyplot as plt\n",
    "from scipy import integrate\n",
    "\n",
    "from scipy.special import jv\n",
    "from scipy.special import yv\n",
    "from scipy.optimize import root"
   ]
  },
  {
   "cell_type": "markdown",
   "metadata": {},
   "source": [
    "$$(i) \\frac{\\partial s}{\\partial t} = k\\frac{\\partial^2 s}{\\partial x^2} +\\frac{Q}{A}\\frac{\\partial s}{\\partial x}$$\n",
    "\n",
    "$$(ii) \\frac{\\partial \\zeta}{\\partial t} = \\kappa \\frac{\\partial^2 \\zeta}{\\partial r^2} + \\frac{1}{r} \\left (\\kappa-\\frac{Q}{\\pi} \\right )\\frac{\\partial \\zeta}{\\partial r}$$"
   ]
  },
  {
   "cell_type": "code",
   "execution_count": 3,
   "metadata": {},
   "outputs": [],
   "source": [
    "Q = 150  # m/s^3\n",
    "A = 2000 # m^2\n",
    "k = 400\n",
    "kappa = k\n",
    "R = 10000\n",
    "L = 10000\n",
    "\n",
    "D = 1\n",
    "\n",
    "pi = np.pi\n",
    "\n",
    "a = A/(pi*D)"
   ]
  },
  {
   "cell_type": "code",
   "execution_count": 4,
   "metadata": {},
   "outputs": [],
   "source": [
    "def ssx(x):\n",
    "    pwr = Q/(kappa*pi*D)\n",
    "    d1 = 1/(R**pwr -a**pwr*np.exp(-Q*L/(k*A)))\n",
    "    c1 = d1*a**pwr\n",
    "    c2 = -np.exp(-Q*L/(k*A))*c1\n",
    "    return c1 * np.exp(-Q*x/(k*A)) + c2\n",
    "\n",
    "def ssr(r):\n",
    "    pwr = Q/(kappa*pi*D)\n",
    "    d1 = 1/(R**pwr -a**pwr*np.exp(-Q*L/(k*A)))\n",
    "    d2 = 1-d1*R**pwr\n",
    "    return d1*r**pwr + d2\n",
    "\n",
    "def ssx0(x):\n",
    "    pwr = 2*Q/(kappa*pi*D)\n",
    "    d1 = 1/(R**pwr -a**pwr*np.exp(-2*Q*L/(k*A)))\n",
    "    c1 = d1*a**pwr\n",
    "    c2 = -np.exp(-2*Q*L/(k*A))*c1\n",
    "    return c1 * np.exp(-2*Q*x/(k*A)) + c2\n",
    "\n",
    "def ssr0(r):\n",
    "    pwr = 2*Q/(kappa*pi*D)\n",
    "    d1 = 1/(R**pwr -a**pwr*np.exp(-2*Q*L/(k*A)))\n",
    "    d2 = 1-d1*R**pwr\n",
    "    return d1*r**pwr + d2"
   ]
  },
  {
   "cell_type": "markdown",
   "metadata": {},
   "source": [
    "### Finding eigenfunctions and -values"
   ]
  },
  {
   "cell_type": "code",
   "execution_count": 5,
   "metadata": {},
   "outputs": [],
   "source": [
    "order = Q/(2*kappa*pi)\n",
    "\n",
    "def phi_r(r,par):\n",
    "    return (r)**(order)*jv(order, np.sqrt(par[0]/kappa)*(r)) + par[1]*(r)**(order)*yv(order, np.sqrt(par[0]/kappa)*(r))\n",
    "\n",
    "def phi_r_prime0(r,par):\n",
    "    c = order\n",
    "    w = np.sqrt(par[0]/kappa)\n",
    "    d = par[1]\n",
    "    \n",
    "    T1 = d*w*r*yv(c-1, w*r)\n",
    "    T2 = 2*c*d*yv(c, w*r)\n",
    "    T3 = -d*w*r*yv(c+1,w*r)\n",
    "    T4 = w*r*jv(c-1,w*r)\n",
    "    T5 = 2*c*jv(c,w*r)\n",
    "    T6 = -w*r*jv(c+1,w*r)\n",
    "    return 0.5*r**(c-1)*(T1+T2+T3+T4+T5+T6)\n",
    "\n",
    "def phi_r_dprime0(r,par):\n",
    "    c = order\n",
    "    w = np.sqrt(par[0]/kappa)\n",
    "    d = par[1]\n",
    "    \n",
    "    T11 = (c**2+c-w**2*r**2)*yv(c, w*r)/(w**2*r**2)\n",
    "    T12 = yv(c-1,w*r)/(w*r)\n",
    "    T1 = d*w**2*r**c*(T11 - T12)\n",
    "    \n",
    "    T21 = (c**2+c-w**2*r**2)*jv(c, w*r)/(w**2*r**2)\n",
    "    T22 = jv(c-1,w*r)/(w*r)\n",
    "    T2 = w**2*r**c*(T21-T22)\n",
    "    \n",
    "    T3 = (c-1)*c*d*r**(c-2)*yv(c,w*r) + c*d*w*r**(c-1)*(yv(c-1,w*r) - yv(c+1,w*r))\n",
    "    T4 = (c-1)*c*r**(c-2)*jv(c,w*r) + c*w*r**(c-1)*(jv(c-1,w*r) - jv(c+1,w*r))\n",
    "    return (T1+T2+T3+T4)"
   ]
  },
  {
   "cell_type": "code",
   "execution_count": null,
   "metadata": {},
   "outputs": [],
   "source": []
  },
  {
   "cell_type": "code",
   "execution_count": 6,
   "metadata": {
    "scrolled": false
   },
   "outputs": [],
   "source": [
    "good_roots_r = np.array([[3.94030436e-05,7.61848195e-01], #n=0\n",
    "                          [1.71476791e-04,1.36154281e+00], #n=1\n",
    "                          [3.94842613e-04,2.49685017e+00], #n=2\n",
    "                          [7.08883157e-04,6.97900847e+00], #n=3\n",
    "                          [1.11333787e-03,-1.12220582e+01], #n=4\n",
    "                          [1.60807412e-03,-3.06309775e+00], #n=5\n",
    "                          [2.19302e-03,-1.67100131e+00], #n=6\n",
    "                          [2.86812e-03,-1.05017646e+00], #n=7\n",
    "                          [3.63335e-03,-0.66912985e+00], #n=8\n",
    "                          [4.4887e-03,-0.38862351e+00], #n=9\n",
    "                          [5.43415e-03,-0.15366476e+00], #n=10\n",
    "                          [6.46968e-03,0.065137e+00], #n=11\n",
    "                          [7.5953e-03,0.2897497e+00], #n=12\n",
    "                          [8.81099e-03,0.54445193e+00], #n=13\n",
    "                          [1.011676e-02,0.86784664e+00], #n=14\n",
    "                          [1.15126e-02,1.34271697e+00], #n=15\n",
    "                          [1.29985e-02,2.21252377e+00], #n=16\n",
    "                          [1.457447e-02,4.71344792e+00], #n=17\n",
    "                          [1.62405098e-02,-2.61426615e+02], #n=18\n",
    "                          [1.799661e-02,-4.44488786e+00]]) #n=20\n"
   ]
  },
  {
   "cell_type": "code",
   "execution_count": 7,
   "metadata": {},
   "outputs": [],
   "source": [
    "N_r = 19\n",
    "N_x = 19\n",
    "\n",
    "#We now count from n=0 for simplicity and to add confusion :)\n",
    "\n",
    "def phi_r_n(r,n):\n",
    "    if n == 0:\n",
    "        return ssr(r)\n",
    "    return phi_r(r, good_roots_r[n-1])\n",
    "\n",
    "def labda_r_n(n):\n",
    "    if n == 0:\n",
    "        return 0\n",
    "    return good_roots_r[n-1][0]\n",
    "\n",
    "def phi_r_prime(r,n):\n",
    "    if n==0:\n",
    "        return None\n",
    "    return phi_r_prime0(r, good_roots_r[n-1])\n",
    "\n",
    "def phi_r_dprime(r,n):\n",
    "    if n==0:\n",
    "        return None\n",
    "    return phi_r_dprime0(r, good_roots_r[n-1])\n",
    "\n",
    "\n",
    "def phi_x_n(x,n):\n",
    "    if n==0:\n",
    "        return ssx(x)\n",
    "    return np.exp(-Q/(2*k*A)*x)*np.sin(n*pi*x/L)\n",
    "\n",
    "def labda_x_n(n):\n",
    "    if n == 0:\n",
    "        return 0\n",
    "    return (Q/A)**2/(4*k) + k*(n*pi/L)**2\n",
    "\n",
    "def phi_x_prime(x,n):\n",
    "    if n==0:\n",
    "        return None\n",
    "    return n*pi/L\n",
    "\n",
    "def phi_x_dprime(x,n):\n",
    "    if n==0: return 0\n",
    "    return -2*n*pi/L*(-Q)/(2*k*A)\n"
   ]
  },
  {
   "cell_type": "code",
   "execution_count": 8,
   "metadata": {},
   "outputs": [],
   "source": [
    "# amp0 = 2*Q*c1/(k*A)\n",
    "f0 = ssx0(0) \n"
   ]
  },
  {
   "cell_type": "code",
   "execution_count": 9,
   "metadata": {},
   "outputs": [],
   "source": [
    "# def psi(r,t):\n",
    "#     return g(t)*(r-R) + 1\n",
    "\n",
    "# def xi(x,t):\n",
    "#     return -g(t)*(x-L)\n",
    "\n",
    "# def u(x):\n",
    "#     return ssx0(x) - xi(x,0)\n",
    "\n",
    "# def v(r):\n",
    "#     return ssr0(r) - psi(r,0)"
   ]
  },
  {
   "cell_type": "code",
   "execution_count": 10,
   "metadata": {},
   "outputs": [],
   "source": [
    "def inner_x(n,m):\n",
    "    return integrate.quad(lambda x: phi_x_n(x,m)*phi_x_n(x,n), 0, L)[0]\n",
    "\n",
    "def inner_r(n,m):\n",
    "    return integrate.quad(lambda r: phi_r_n(r,m)*phi_r_n(r,n), a, R)[0]\n",
    "\n",
    "G_x = np.array([[inner_x(n,m) for n in range(N_x)] for m in range(N_x)])\n",
    "G_r = np.array([[inner_r(n,m) for n in range(N_r)] for m in range(N_r)])\n",
    "\n",
    "labda_x = np.array([labda_x_n(n) for n in range(N_x)])\n",
    "labda_r = np.array([labda_r_n(n) for n in range(N_r)])\n",
    "\n",
    "inv_x = np.linalg.inv(G_x)\n",
    "inv_r = np.linalg.inv(G_r)\n"
   ]
  },
  {
   "cell_type": "code",
   "execution_count": 11,
   "metadata": {},
   "outputs": [],
   "source": [
    "a1 = -A*L/Q\n",
    "a2 = a*(a-R)/(kappa-Q/(pi*D))\n",
    "\n",
    "b0 = np.sum([inv_x[0,j] * integrate.quad(lambda x: (ssx0(x))*phi_x_n(x,j), 0, L)[0] for j in range(N_x)])\n",
    "b1 = np.sum([inv_x[0,j] * integrate.quad(lambda x: -Q/A*(x-L)*phi_x_n(x,j), 0, L)[0] for j in range(N_x)])\n",
    "b3 = np.sum([inv_x[0,j] * integrate.quad(lambda x: phi_x_n(x,j), 0, L)[0] for j in range(N_x)])\n",
    "\n",
    "c0 = np.sum([inv_r[0,j] * integrate.quad(lambda r: (ssr0(r))*phi_r_n(r,j), a, R)[0] for j in range(N_r)])\n",
    "c1 = np.sum([inv_r[0,j] * integrate.quad(lambda r: a/(kappa-Q/(pi*D))*(R-r)*phi_r_n(r,j), a, R)[0] for j in range(N_r)])\n",
    "c3 = np.sum([inv_r[0,j] * integrate.quad(lambda r: a/r*phi_r_n(r,j), a, R)[0] for j in range(N_r)])"
   ]
  },
  {
   "cell_type": "code",
   "execution_count": 12,
   "metadata": {},
   "outputs": [
    {
     "name": "stdout",
     "output_type": "stream",
     "text": [
      "0.04783860354548853\n"
     ]
    }
   ],
   "source": [
    "alpha = b3 + b1 - c3 - c1\n",
    "beta = b1 - c1 + a1 - a2\n",
    "\n",
    "print(alpha/beta)"
   ]
  },
  {
   "cell_type": "code",
   "execution_count": 14,
   "metadata": {},
   "outputs": [
    {
     "name": "stderr",
     "output_type": "stream",
     "text": [
      "<ipython-input-14-9a6c3751cb30>:13: RuntimeWarning: divide by zero encountered in double_scalars\n",
      "  tempir0 = np.array([P2[n]/labda_r[n] for n in range(N_r)])\n",
      "<ipython-input-14-9a6c3751cb30>:14: RuntimeWarning: divide by zero encountered in double_scalars\n",
      "  tempir1 = np.array([P0[n]+f0*P1[n]-P2[n]/labda_r[n] for n in range(N_r)])\n"
     ]
    },
    {
     "ename": "TypeError",
     "evalue": "unsupported operand type(s) for *: 'float' and 'NoneType'",
     "output_type": "error",
     "traceback": [
      "\u001b[0;31m---------------------------------------------------------------------------\u001b[0m",
      "\u001b[0;31mTypeError\u001b[0m                                 Traceback (most recent call last)",
      "\u001b[0;32m<ipython-input-14-9a6c3751cb30>\u001b[0m in \u001b[0;36m<module>\u001b[0;34m\u001b[0m\n\u001b[1;32m     16\u001b[0m \u001b[0mtempir3\u001b[0m \u001b[0;34m=\u001b[0m \u001b[0mnp\u001b[0m\u001b[0;34m.\u001b[0m\u001b[0marray\u001b[0m\u001b[0;34m(\u001b[0m\u001b[0;34m[\u001b[0m\u001b[0mlabda_r\u001b[0m\u001b[0;34m[\u001b[0m\u001b[0mn\u001b[0m\u001b[0;34m]\u001b[0m\u001b[0;34m*\u001b[0m\u001b[0mP1\u001b[0m\u001b[0;34m[\u001b[0m\u001b[0mn\u001b[0m\u001b[0;34m]\u001b[0m \u001b[0;34m+\u001b[0m \u001b[0mP2\u001b[0m\u001b[0;34m[\u001b[0m\u001b[0mn\u001b[0m\u001b[0;34m]\u001b[0m \u001b[0;32mfor\u001b[0m \u001b[0mn\u001b[0m \u001b[0;32min\u001b[0m \u001b[0mrange\u001b[0m\u001b[0;34m(\u001b[0m\u001b[0mN_r\u001b[0m\u001b[0;34m)\u001b[0m\u001b[0;34m]\u001b[0m\u001b[0;34m)\u001b[0m\u001b[0;34m\u001b[0m\u001b[0;34m\u001b[0m\u001b[0m\n\u001b[1;32m     17\u001b[0m \u001b[0;34m\u001b[0m\u001b[0m\n\u001b[0;32m---> 18\u001b[0;31m \u001b[0mPHIx\u001b[0m \u001b[0;34m=\u001b[0m \u001b[0mnp\u001b[0m\u001b[0;34m.\u001b[0m\u001b[0marray\u001b[0m\u001b[0;34m(\u001b[0m\u001b[0;34m[\u001b[0m\u001b[0mk\u001b[0m\u001b[0;34m*\u001b[0m\u001b[0mphi_x_dprime\u001b[0m\u001b[0;34m(\u001b[0m\u001b[0;36m0\u001b[0m\u001b[0;34m,\u001b[0m\u001b[0mn\u001b[0m\u001b[0;34m)\u001b[0m \u001b[0;34m+\u001b[0m \u001b[0mQ\u001b[0m\u001b[0;34m/\u001b[0m\u001b[0mA\u001b[0m\u001b[0;34m*\u001b[0m\u001b[0mphi_x_prime\u001b[0m\u001b[0;34m(\u001b[0m\u001b[0;36m0\u001b[0m\u001b[0;34m,\u001b[0m\u001b[0mn\u001b[0m\u001b[0;34m)\u001b[0m \u001b[0;32mfor\u001b[0m \u001b[0mn\u001b[0m \u001b[0;32min\u001b[0m \u001b[0mrange\u001b[0m\u001b[0;34m(\u001b[0m\u001b[0mN_x\u001b[0m\u001b[0;34m)\u001b[0m\u001b[0;34m]\u001b[0m\u001b[0;34m)\u001b[0m\u001b[0;34m\u001b[0m\u001b[0;34m\u001b[0m\u001b[0m\n\u001b[0m\u001b[1;32m     19\u001b[0m \u001b[0mPHIr\u001b[0m \u001b[0;34m=\u001b[0m \u001b[0mnp\u001b[0m\u001b[0;34m.\u001b[0m\u001b[0marray\u001b[0m\u001b[0;34m(\u001b[0m\u001b[0;34m[\u001b[0m\u001b[0mkappa\u001b[0m\u001b[0;34m*\u001b[0m\u001b[0mphi_r_dprime\u001b[0m\u001b[0;34m(\u001b[0m\u001b[0ma\u001b[0m\u001b[0;34m,\u001b[0m\u001b[0mn\u001b[0m\u001b[0;34m)\u001b[0m \u001b[0;34m+\u001b[0m \u001b[0;34m(\u001b[0m\u001b[0mkappa\u001b[0m\u001b[0;34m-\u001b[0m\u001b[0mQ\u001b[0m\u001b[0;34m/\u001b[0m\u001b[0;34m(\u001b[0m\u001b[0mpi\u001b[0m\u001b[0;34m*\u001b[0m\u001b[0mD\u001b[0m\u001b[0;34m)\u001b[0m\u001b[0;34m)\u001b[0m\u001b[0;34m/\u001b[0m\u001b[0ma\u001b[0m\u001b[0;34m*\u001b[0m\u001b[0mphi_r_prime\u001b[0m\u001b[0;34m(\u001b[0m\u001b[0ma\u001b[0m\u001b[0;34m,\u001b[0m\u001b[0mn\u001b[0m\u001b[0;34m)\u001b[0m \u001b[0;32mfor\u001b[0m \u001b[0mn\u001b[0m \u001b[0;32min\u001b[0m \u001b[0mrange\u001b[0m\u001b[0;34m(\u001b[0m\u001b[0mN_r\u001b[0m\u001b[0;34m)\u001b[0m\u001b[0;34m]\u001b[0m\u001b[0;34m)\u001b[0m\u001b[0;34m\u001b[0m\u001b[0;34m\u001b[0m\u001b[0m\n\u001b[1;32m     20\u001b[0m \u001b[0;34m\u001b[0m\u001b[0m\n",
      "\u001b[0;32m<ipython-input-14-9a6c3751cb30>\u001b[0m in \u001b[0;36m<listcomp>\u001b[0;34m(.0)\u001b[0m\n\u001b[1;32m     16\u001b[0m \u001b[0mtempir3\u001b[0m \u001b[0;34m=\u001b[0m \u001b[0mnp\u001b[0m\u001b[0;34m.\u001b[0m\u001b[0marray\u001b[0m\u001b[0;34m(\u001b[0m\u001b[0;34m[\u001b[0m\u001b[0mlabda_r\u001b[0m\u001b[0;34m[\u001b[0m\u001b[0mn\u001b[0m\u001b[0;34m]\u001b[0m\u001b[0;34m*\u001b[0m\u001b[0mP1\u001b[0m\u001b[0;34m[\u001b[0m\u001b[0mn\u001b[0m\u001b[0;34m]\u001b[0m \u001b[0;34m+\u001b[0m \u001b[0mP2\u001b[0m\u001b[0;34m[\u001b[0m\u001b[0mn\u001b[0m\u001b[0;34m]\u001b[0m \u001b[0;32mfor\u001b[0m \u001b[0mn\u001b[0m \u001b[0;32min\u001b[0m \u001b[0mrange\u001b[0m\u001b[0;34m(\u001b[0m\u001b[0mN_r\u001b[0m\u001b[0;34m)\u001b[0m\u001b[0;34m]\u001b[0m\u001b[0;34m)\u001b[0m\u001b[0;34m\u001b[0m\u001b[0;34m\u001b[0m\u001b[0m\n\u001b[1;32m     17\u001b[0m \u001b[0;34m\u001b[0m\u001b[0m\n\u001b[0;32m---> 18\u001b[0;31m \u001b[0mPHIx\u001b[0m \u001b[0;34m=\u001b[0m \u001b[0mnp\u001b[0m\u001b[0;34m.\u001b[0m\u001b[0marray\u001b[0m\u001b[0;34m(\u001b[0m\u001b[0;34m[\u001b[0m\u001b[0mk\u001b[0m\u001b[0;34m*\u001b[0m\u001b[0mphi_x_dprime\u001b[0m\u001b[0;34m(\u001b[0m\u001b[0;36m0\u001b[0m\u001b[0;34m,\u001b[0m\u001b[0mn\u001b[0m\u001b[0;34m)\u001b[0m \u001b[0;34m+\u001b[0m \u001b[0mQ\u001b[0m\u001b[0;34m/\u001b[0m\u001b[0mA\u001b[0m\u001b[0;34m*\u001b[0m\u001b[0mphi_x_prime\u001b[0m\u001b[0;34m(\u001b[0m\u001b[0;36m0\u001b[0m\u001b[0;34m,\u001b[0m\u001b[0mn\u001b[0m\u001b[0;34m)\u001b[0m \u001b[0;32mfor\u001b[0m \u001b[0mn\u001b[0m \u001b[0;32min\u001b[0m \u001b[0mrange\u001b[0m\u001b[0;34m(\u001b[0m\u001b[0mN_x\u001b[0m\u001b[0;34m)\u001b[0m\u001b[0;34m]\u001b[0m\u001b[0;34m)\u001b[0m\u001b[0;34m\u001b[0m\u001b[0;34m\u001b[0m\u001b[0m\n\u001b[0m\u001b[1;32m     19\u001b[0m \u001b[0mPHIr\u001b[0m \u001b[0;34m=\u001b[0m \u001b[0mnp\u001b[0m\u001b[0;34m.\u001b[0m\u001b[0marray\u001b[0m\u001b[0;34m(\u001b[0m\u001b[0;34m[\u001b[0m\u001b[0mkappa\u001b[0m\u001b[0;34m*\u001b[0m\u001b[0mphi_r_dprime\u001b[0m\u001b[0;34m(\u001b[0m\u001b[0ma\u001b[0m\u001b[0;34m,\u001b[0m\u001b[0mn\u001b[0m\u001b[0;34m)\u001b[0m \u001b[0;34m+\u001b[0m \u001b[0;34m(\u001b[0m\u001b[0mkappa\u001b[0m\u001b[0;34m-\u001b[0m\u001b[0mQ\u001b[0m\u001b[0;34m/\u001b[0m\u001b[0;34m(\u001b[0m\u001b[0mpi\u001b[0m\u001b[0;34m*\u001b[0m\u001b[0mD\u001b[0m\u001b[0;34m)\u001b[0m\u001b[0;34m)\u001b[0m\u001b[0;34m/\u001b[0m\u001b[0ma\u001b[0m\u001b[0;34m*\u001b[0m\u001b[0mphi_r_prime\u001b[0m\u001b[0;34m(\u001b[0m\u001b[0ma\u001b[0m\u001b[0;34m,\u001b[0m\u001b[0mn\u001b[0m\u001b[0;34m)\u001b[0m \u001b[0;32mfor\u001b[0m \u001b[0mn\u001b[0m \u001b[0;32min\u001b[0m \u001b[0mrange\u001b[0m\u001b[0;34m(\u001b[0m\u001b[0mN_r\u001b[0m\u001b[0;34m)\u001b[0m\u001b[0;34m]\u001b[0m\u001b[0;34m)\u001b[0m\u001b[0;34m\u001b[0m\u001b[0;34m\u001b[0m\u001b[0m\n\u001b[1;32m     20\u001b[0m \u001b[0;34m\u001b[0m\u001b[0m\n",
      "\u001b[0;31mTypeError\u001b[0m: unsupported operand type(s) for *: 'float' and 'NoneType'"
     ]
    }
   ],
   "source": [
    "I0 = [sum([inv_x[n,j]*integrate.quad(lambda x: (ssx0(x)-f0*(1-x/L))*phi_x_n(x,j), 0, L)[0] for j in range(N_x)]) for n in range(N_x)]\n",
    "I1 = [sum([inv_x[n,j]*integrate.quad(lambda x: (1-x/L)*phi_x_n(x,j), 0, L)[0] for j in range(N_x)]) for n in range(N_x)]\n",
    "I2 = [sum([inv_x[n,j]*integrate.quad(lambda x: (-Q/(A*L))*phi_x_n(x,j), 0, L)[0] for j in range(N_x)]) for n in range(N_x)]\n",
    "\n",
    "P0 = [sum([inv_r[n,j]*integrate.quad(lambda r: (ssr0(r)-(f0-1)*r/(a-R)-(R*f0-a)/(R-a))*phi_r_n(r,j), a, R)[0] for j in range(N_r)]) for n in range(N_r)]\n",
    "P1 = [sum([inv_r[n,j]*integrate.quad(lambda r: (R-r)/(R-a)*phi_r_n(r,j), a, R)[0] for j in range(N_r)]) for n in range(N_r)]\n",
    "P2 = [sum([inv_r[n,j]*integrate.quad(lambda r: -1/(a-R)*(kappa-Q/(pi*D))/r*phi_r_n(r,j), a, R)[0] for j in range(N_r)]) for n in range(N_r)]\n",
    "\n",
    "tempix1 = np.array([I0[n] + f0*I1[n] for n in range(N_x)])\n",
    "tempix2 = np.array([-I1[n] for n in range(N_x)])\n",
    "tempix3 = np.array([labda_x[n]*I1[n]+I2[n] for n in range(N_x)])\n",
    "\n",
    "tempir0 = np.array([P2[n]/labda_r[n] for n in range(N_r)])\n",
    "tempir1 = np.array([P0[n]+f0*P1[n]-P2[n]/labda_r[n] for n in range(N_r)])\n",
    "tempir2 = np.array([-P1[n] for n in range(N_r)])\n",
    "tempir3 = np.array([labda_r[n]*P1[n] + P2[n] for n in range(N_r)])\n",
    "\n",
    "PHIx = np.array([k*phi_x_dprime(0,n) + Q/A*phi_x_prime(0,n) for n in range(N_x)])\n",
    "PHIr = np.array([kappa*phi_r_dprime(a,n) + (kappa-Q/(pi*D))/a*phi_r_prime(a,n) for n in range(N_r)])\n",
    "\n",
    "Bx1 = np.array([tempix1[n]*PHIx[n] for n in range(N_x)])\n",
    "Bx2 = np.array([tempix2[n]*PHIx[n] for n in range(N_x)])\n",
    "Bx3 = np.array([tempix3[n]*PHIx[n] for n in range(N_x)])\n",
    "\n",
    "Br0 = np.array([tempir0[n]*PHIr[n] for n in range(N_r)])\n",
    "Br1 = np.array([tempir1[n]*PHIr[n] for n in range(N_r)])\n",
    "Br2 = np.array([tempir2[n]*PHIr[n] for n in range(N_r)])\n",
    "Br3 = np.array([tempir3[n]*PHIr[n] for n in range(N_r)])"
   ]
  },
  {
   "cell_type": "code",
   "execution_count": 15,
   "metadata": {},
   "outputs": [],
   "source": [
    "# c = 1/a*(kappa-Q/(pi*D))/(a-R)\n",
    "# d = Q/(A*L)\n",
    "\n",
    "# def trapx(ti, farr, tarr):\n",
    "#     res = 0\n",
    "#     if len(tarr)<3:\n",
    "#         return 0\n",
    "#     for n in range(N_x):\n",
    "#         for i in range(1,len(tarr)-1):\n",
    "#             res += farr[i]*np.exp(labda_x[n]*(tarr[i]-ti))\n",
    "#         res = res*Bx3[n]\n",
    "#     return dt*res\n",
    "\n",
    "# def trapr(ti, farr, tarr):\n",
    "#     res = 0\n",
    "#     if len(tarr)<3:\n",
    "#         return 0\n",
    "#     for n in range(N_r):\n",
    "#         for i in range(1,len(tarr)-1):\n",
    "#             res += farr[i]*np.exp(labda_r[n]*(tarr[i]-ti))\n",
    "#         res = res*Br3[n]\n",
    "#     return dt*res\n",
    "\n",
    "# def den(ti):\n",
    "#     res = c - d\n",
    "#     res += -np.sum(Bx2 + dt/2*Bx3)\n",
    "#     res += np.sum(Br2 + dt/2*Br3)\n",
    "#     return res\n",
    "\n",
    "# def num(ti, farr, tarr):\n",
    "#     res = c\n",
    "#     res += np.sum(np.exp(-labda_x*ti)*Bx1 + f0*dt/2*np.exp(-labda_x*ti)*Bx3)\n",
    "#     res += trapx(ti, farr, tarr)\n",
    "#     res += -np.sum(Br0+np.exp(-labda_r*ti)*Br1 + f0*dt/2*np.exp(-labda_r*ti)*Br3)\n",
    "#     res += -trapr(ti, farr, tarr)\n",
    "#     return res\n",
    "\n",
    "# farr = np.array([f0])\n",
    "# tarr = np.array([0])\n",
    "# dt = 1e-3\n",
    "# M = 1000\n",
    "\n",
    "# for i in range(M):\n",
    "#     ti = tarr[-1]+dt\n",
    "#     f_new = num(ti, farr, tarr)/den(ti)\n",
    "#     farr = np.append(farr, np.array([f_new]))\n",
    "#     tarr = np.append(tarr, np.array([ti]))\n",
    "\n",
    "# plt.figure()\n",
    "# plt.plot(tarr, farr)\n",
    "# plt.hlines(ssx0(0), tarr[0], tarr[-1], 'k')\n",
    "# plt.hlines(ssx(0), tarr[0], tarr[-1], 'k')\n",
    "# plt.xlabel('t')\n",
    "# plt.ylabel('f(t)')\n",
    "# plt.show()"
   ]
  },
  {
   "cell_type": "code",
   "execution_count": 16,
   "metadata": {},
   "outputs": [],
   "source": [
    "# from scipy.interpolate import CubicSpline\n",
    "\n",
    "# cs = CubicSpline(tarr, farr)\n",
    "\n",
    "# plt.figure()\n",
    "# plt.plot(tarr, farr, '--')\n",
    "# plt.plot(tarr, cs(tarr))\n",
    "# plt.show()\n",
    "\n",
    "# def g(t):\n",
    "#     return cs(t)\n",
    "\n",
    "# def g_prime(t):\n",
    "#     dt = 1e-3\n",
    "#     return (cs(t+dt)-cs(t))/dt"
   ]
  },
  {
   "cell_type": "code",
   "execution_count": 17,
   "metadata": {
    "scrolled": false
   },
   "outputs": [],
   "source": [
    "# x = np.linspace(0,L,20)\n",
    "# r = np.linspace(a,R,10)\n",
    "\n",
    "# ax = np.append(-x[::-1], r)\n",
    "# res = np.append(sol_x(x,0)[::-1], sol_r(r,0))\n",
    "# s0 = np.append(ssx0(x)[::-1], ssr0(r))\n",
    "# sn = np.append(ssx(x)[::-1], ssr(r))\n",
    "\n",
    "# plt.figure(figsize=(12,12))\n",
    "# plt.plot(ax, res)\n",
    "# plt.plot(ax, s0, '--', label='ss0')\n",
    "# plt.plot(ax, sn, '--', label='ssn')\n",
    "# for t in np.logspace(-1,3,8):\n",
    "#     print(t)\n",
    "#     xsol = sol_x(x,t)[::-1]\n",
    "#     print('xsol done')\n",
    "#     rsol = sol_r(r,t)\n",
    "#     print('rsol done')\n",
    "#     res = np.append(xsol, rsol)\n",
    "#     plt.plot(ax, res, label=str(t))\n",
    "#     plt.plot(0, g(t), 'r.')\n",
    "# plt.xlim(-L,R)\n",
    "# plt.ylim(0,1)\n",
    "# plt.legend()\n",
    "# plt.show()"
   ]
  },
  {
   "cell_type": "code",
   "execution_count": 18,
   "metadata": {},
   "outputs": [],
   "source": [
    "# plt.figure()\n",
    "# plt.plot([abs(PHIx[i]) for i in range(N_x)])\n",
    "# plt.yscale('log')\n",
    "# plt.show()\n",
    "\n",
    "# plt.figure()\n",
    "# plt.plot([abs(PHIr[i]) for i in range(N_r)])\n",
    "# plt.yscale('log')\n",
    "# plt.show()"
   ]
  },
  {
   "cell_type": "code",
   "execution_count": 19,
   "metadata": {},
   "outputs": [
    {
     "name": "stdout",
     "output_type": "stream",
     "text": [
      "-1.4533828021114656e-05\n"
     ]
    }
   ],
   "source": [
    "#TEST\n",
    "i1 = np.sum([inv_x[0,j] * integrate.quad(lambda x: (ssx0(x))*phi_x_n(x,j), 0, L)[0] for j in range(N_x)])\n",
    "i2 = np.sum([inv_x[0,j] * integrate.quad(lambda x: (1-x/L)*phi_x_n(x,j), 0, L)[0] for j in range(N_x)])\n",
    "i3 = np.sum([inv_x[0,j] * integrate.quad(lambda x: Q/(A*L)*phi_x_n(x,j), 0, L)[0] for j in range(N_x)])\n",
    "\n",
    "p1 = np.sum([inv_r[0,j] * integrate.quad(lambda r: (ssr0(r))*phi_r_n(r,j), a, R)[0] for j in range(N_r)])\n",
    "p2 = np.sum([inv_r[0,j] * integrate.quad(lambda r: (R-r)/(R-a)*phi_r_n(r,j), a, R)[0] for j in range(N_r)])\n",
    "p3 = np.sum([inv_r[0,j] * integrate.quad(lambda r: 1/r*(kappa-Q/(pi*D))/(R-a)*phi_r_n(r,j), a, R)[0] for j in range(N_r)])\n",
    "\n",
    "beta = -i2+p2\n",
    "gamma = -i3+p3\n",
    "\n",
    "print(gamma/beta)"
   ]
  },
  {
   "cell_type": "code",
   "execution_count": 20,
   "metadata": {},
   "outputs": [
    {
     "name": "stdout",
     "output_type": "stream",
     "text": [
      "7.5e-06\n"
     ]
    }
   ],
   "source": [
    "print(Q/(A*L))"
   ]
  },
  {
   "cell_type": "code",
   "execution_count": null,
   "metadata": {},
   "outputs": [],
   "source": []
  }
 ],
 "metadata": {
  "kernelspec": {
   "display_name": "Python 3",
   "language": "python",
   "name": "python3"
  },
  "language_info": {
   "codemirror_mode": {
    "name": "ipython",
    "version": 3
   },
   "file_extension": ".py",
   "mimetype": "text/x-python",
   "name": "python",
   "nbconvert_exporter": "python",
   "pygments_lexer": "ipython3",
   "version": "3.8.5"
  }
 },
 "nbformat": 4,
 "nbformat_minor": 4
}
