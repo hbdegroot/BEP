{
 "cells": [
  {
   "cell_type": "code",
   "execution_count": 1,
   "metadata": {},
   "outputs": [],
   "source": [
    "import numpy as np\n",
    "import matplotlib.pyplot as plt\n",
    "from scipy import integrate\n",
    "from scipy.special import jv\n",
    "from scipy.special import yv\n",
    "from scipy.optimize import root"
   ]
  },
  {
   "cell_type": "code",
   "execution_count": 2,
   "metadata": {},
   "outputs": [],
   "source": [
    "Q = 150  # m/s^3\n",
    "A = 2000 # m^2\n",
    "k = 400\n",
    "kappa = k\n",
    "R = 10000\n",
    "L = 10000\n",
    "\n",
    "pi = np.pi\n",
    "\n",
    "a = A/pi"
   ]
  },
  {
   "cell_type": "markdown",
   "metadata": {},
   "source": [
    "### Finding eigenfunctions and -values"
   ]
  },
  {
   "cell_type": "code",
   "execution_count": 3,
   "metadata": {},
   "outputs": [],
   "source": [
    "order = Q/(2*kappa*pi)\n",
    "def phi_bessel(r,par):\n",
    "    return (r)**(order)*jv(order, np.sqrt(par[0]/kappa)*(r)) + par[1]*(r)**(order)*yv(order, np.sqrt(par[0]/kappa)*(r))"
   ]
  },
  {
   "cell_type": "code",
   "execution_count": 7,
   "metadata": {
    "scrolled": false
   },
   "outputs": [
    {
     "name": "stdout",
     "output_type": "stream",
     "text": [
      "Bessel:\n"
     ]
    },
    {
     "name": "stderr",
     "output_type": "stream",
     "text": [
      "<ipython-input-7-8eb9fac5ef70>:29: RuntimeWarning: invalid value encountered in sqrt\n",
      "  return (r)**(order)*jv(order, np.sqrt(par[0]/kappa)*(r)) + par[1]*(r)**(order)*yv(order, np.sqrt(par[0]/kappa)*(r))\n"
     ]
    },
    {
     "data": {
      "image/png": "[encoded data removed]",
      "text/plain": [
       "<Figure size 432x288 with 1 Axes>"
      ]
     },
     "metadata": {
      "needs_background": "light"
     },
     "output_type": "display_data"
    },
    {
     "name": "stdout",
     "output_type": "stream",
     "text": [
      "$\\lambda = a Q^2 +b$\n",
      "a= 3.5867063822299096e-12 ± 4.669501377845255e-15\n",
      "b= 3.9355141101423214e-05 ± 4.757351792255919e-09\n"
     ]
    }
   ],
   "source": [
    "from scipy.optimize import root\n",
    "\n",
    "phi_a = lambda x: phi_bessel(a,x)\n",
    "phi_R = lambda x: phi_bessel(R,x)\n",
    "\n",
    "def func(x):\n",
    "    return phi_a(x),phi_R(x)\n",
    "\n",
    "def is_new(r,rootz):\n",
    "    temp = True\n",
    "    for j in range(len(rootz)):\n",
    "        if ( abs(r[0]-rootz[j][0])<0.01*abs(r[0]) ) and ( abs(r[1]-rootz[j][1])<0.01*abs(r[1]) ):\n",
    "            temp = False\n",
    "    return temp\n",
    "\n",
    "roots = [1e-5]\n",
    "ds = [1]\n",
    "\n",
    "Qspace = np.linspace(Q/10,10*Q,100)\n",
    "\n",
    "# Find roots of bessel\n",
    "print('Bessel:')\n",
    "for q in Qspace:\n",
    "    rts = [1e-3]\n",
    "    dts = [1]\n",
    "    \n",
    "    order = q/(2*kappa*pi)\n",
    "    def phi_bessel(r,par):\n",
    "        return (r)**(order)*jv(order, np.sqrt(par[0]/kappa)*(r)) + par[1]*(r)**(order)*yv(order, np.sqrt(par[0]/kappa)*(r))\n",
    "    \n",
    "    phi_a = lambda x: phi_bessel(a,x)\n",
    "    phi_R = lambda x: phi_bessel(R,x)\n",
    "\n",
    "    def func(x):\n",
    "        return phi_a(x),phi_R(x)\n",
    "\n",
    "    for j in np.linspace(max(roots),2*max(roots),20):\n",
    "        rt = root(func, x0 =(j,1)).x\n",
    "        #print(rt)\n",
    "        rts.append(rt[0])\n",
    "        dts.append(rt[1])\n",
    "    roots.append(min(rts))\n",
    "    ds.append(min(dts))\n",
    "    \n",
    "from scipy.optimize import curve_fit\n",
    "\n",
    "def fitfunc(q, a, b):\n",
    "    return a*q**2 + b\n",
    "\n",
    "par, cov = curve_fit(fitfunc, Qspace, roots[1:])\n",
    "\n",
    "x = np.linspace(-50,1550,100)\n",
    "plt.figure()\n",
    "plt.plot(Qspace, roots[1:], 'k.')\n",
    "plt.plot(x, fitfunc(x, *par))\n",
    "plt.xlabel('Q')\n",
    "plt.ylabel('$\\lambda min$')\n",
    "#plt.yscale('log')\n",
    "plt.xlim(-50, 1550)\n",
    "plt.show()\n",
    "\n",
    "print(r\"$\\lambda = a Q^2 +b$\")\n",
    "print('a=', par[0], '±', np.sqrt(cov[0,0]))\n",
    "print('b=', par[1], '±', np.sqrt(cov[1,1]))"
   ]
  },
  {
   "cell_type": "code",
   "execution_count": 45,
   "metadata": {},
   "outputs": [
    {
     "name": "stdout",
     "output_type": "stream",
     "text": [
      "Bessel:\n"
     ]
    },
    {
     "name": "stderr",
     "output_type": "stream",
     "text": [
      "<ipython-input-45-c4a6b830fcf1>:14: RuntimeWarning: invalid value encountered in sqrt\n",
      "  return (r)**(order)*jv(order, np.sqrt(par[0]/kappa)*(r)) + par[1]*(r)**(order)*yv(order, np.sqrt(par[0]/kappa)*(r))\n"
     ]
    },
    {
     "data": {
      "image/png": "[encoded data removed]",
      "text/plain": [
       "<Figure size 432x288 with 1 Axes>"
      ]
     },
     "metadata": {
      "needs_background": "light"
     },
     "output_type": "display_data"
    },
    {
     "name": "stdout",
     "output_type": "stream",
     "text": [
      "$\\lambda = a \\kappa +b$\n",
      "a= 9.825657937357133e-08 ± 7.245036691152722e-12\n",
      "b= 1.2455190916992487e-07 ± 1.6857251344680957e-08\n"
     ]
    }
   ],
   "source": [
    "roots = [1e-5]\n",
    "ds = [1]\n",
    "\n",
    "kappaspace = np.linspace(kappa/10,10*kappa,100)\n",
    "\n",
    "# Find roots of bessel\n",
    "print('Bessel:')\n",
    "for kappa in kappaspace:\n",
    "    rts = [1e-3]\n",
    "    dts = [1]\n",
    "    \n",
    "    order = Q/(2*kappa*pi)\n",
    "    def phi_bessel(r,par):\n",
    "        return (r)**(order)*jv(order, np.sqrt(par[0]/kappa)*(r)) + par[1]*(r)**(order)*yv(order, np.sqrt(par[0]/kappa)*(r))\n",
    "    \n",
    "    phi_a = lambda x: phi_bessel(a,x)\n",
    "    phi_R = lambda x: phi_bessel(R,x)\n",
    "\n",
    "    def func(x):\n",
    "        return phi_a(x),phi_R(x)\n",
    "\n",
    "    for j in np.linspace(max(roots),2*max(roots),20):\n",
    "        rt = root(func, x0 =(j,1)).x\n",
    "        #print(rt)\n",
    "        rts.append(rt[0])\n",
    "        dts.append(rt[1])\n",
    "    roots.append(min(rts))\n",
    "    ds.append(min(dts))\n",
    "    \n",
    "from scipy.optimize import curve_fit\n",
    "\n",
    "def fitfunc(kappa, a, b):\n",
    "    return a*kappa + b\n",
    "\n",
    "par, cov = curve_fit(fitfunc, kappaspace, roots[1:])\n",
    "    \n",
    "plt.figure()\n",
    "plt.plot(kappaspace, roots[1:], 'k.')\n",
    "plt.plot(kappaspace, fitfunc(kappaspace, *par))\n",
    "plt.xlabel('kappa')\n",
    "plt.ylabel('$\\lambda min$')\n",
    "#plt.yscale('log')\n",
    "plt.show()\n",
    "\n",
    "print(r\"$\\lambda = a \\kappa +b$\")\n",
    "print('a=', par[0], '±', np.sqrt(cov[0,0]))\n",
    "print('b=', par[1], '±', np.sqrt(cov[1,1]))"
   ]
  },
  {
   "cell_type": "code",
   "execution_count": 48,
   "metadata": {},
   "outputs": [
    {
     "name": "stdout",
     "output_type": "stream",
     "text": [
      "Bessel:\n"
     ]
    },
    {
     "name": "stderr",
     "output_type": "stream",
     "text": [
      "/Users/hugo/opt/anaconda3/lib/python3.8/site-packages/scipy/optimize/minpack.py:828: OptimizeWarning: Covariance of the parameters could not be estimated\n",
      "  warnings.warn('Covariance of the parameters could not be estimated',\n"
     ]
    },
    {
     "data": {
      "image/png": "[encoded data removed]",
      "text/plain": [
       "<Figure size 432x288 with 1 Axes>"
      ]
     },
     "metadata": {
      "needs_background": "light"
     },
     "output_type": "display_data"
    },
    {
     "name": "stdout",
     "output_type": "stream",
     "text": [
      "$\\lambda = a R +b$\n",
      "a= -2.845575244527598e-19 ± inf\n",
      "b= 0.10000000000143702 ± inf\n"
     ]
    }
   ],
   "source": [
    "roots = [10]\n",
    "ds = [1]\n",
    "\n",
    "Rspace = np.linspace(R/10,10*R,100)\n",
    "\n",
    "# Find roots of bessel\n",
    "print('Bessel:')\n",
    "for R in Rspace:\n",
    "    rts = [1e-1]\n",
    "    dts = [1]\n",
    "    \n",
    "    order = Q/(2*kappa*pi)\n",
    "    def phi_bessel(r,par):\n",
    "        return (r)**(order)*jv(order, np.sqrt(par[0]/kappa)*(r)) + par[1]*(r)**(order)*yv(order, np.sqrt(par[0]/kappa)*(r))\n",
    "    \n",
    "    phi_a = lambda x: phi_bessel(a,x)\n",
    "    phi_R = lambda x: phi_bessel(R,x)\n",
    "\n",
    "    def func(x):\n",
    "        return phi_a(x),phi_R(x)\n",
    "\n",
    "    for j in np.linspace(max(roots),2*max(roots),20):\n",
    "        rt = root(func, x0 =(j,1)).x\n",
    "        #print(rt)\n",
    "        rts.append(rt[0])\n",
    "        dts.append(rt[1])\n",
    "    roots.append(min(rts))\n",
    "    ds.append(min(dts))\n",
    "    \n",
    "from scipy.optimize import curve_fit\n",
    "\n",
    "def fitfunc(R, a, b):\n",
    "    return a*R + b\n",
    "\n",
    "par, cov = curve_fit(fitfunc, Rspace, roots[1:])\n",
    "    \n",
    "plt.figure()\n",
    "plt.plot(Rspace, roots[1:], 'k.')\n",
    "plt.plot(Rspace, fitfunc(Rspace, *par))\n",
    "plt.xlabel('R')\n",
    "plt.ylabel('$\\lambda min$')\n",
    "#plt.yscale('log')\n",
    "plt.show()\n",
    "\n",
    "print(r\"$\\lambda = a R +b$\")\n",
    "print('a=', par[0], '±', np.sqrt(cov[0,0]))\n",
    "print('b=', par[1], '±', np.sqrt(cov[1,1]))"
   ]
  },
  {
   "cell_type": "code",
   "execution_count": null,
   "metadata": {},
   "outputs": [],
   "source": []
  }
 ],
 "metadata": {
  "kernelspec": {
   "display_name": "Python 3",
   "language": "python",
   "name": "python3"
  },
  "language_info": {
   "codemirror_mode": {
    "name": "ipython",
    "version": 3
   },
   "file_extension": ".py",
   "mimetype": "text/x-python",
   "name": "python",
   "nbconvert_exporter": "python",
   "pygments_lexer": "ipython3",
   "version": "3.8.5"
  }
 },
 "nbformat": 4,
 "nbformat_minor": 4
}
